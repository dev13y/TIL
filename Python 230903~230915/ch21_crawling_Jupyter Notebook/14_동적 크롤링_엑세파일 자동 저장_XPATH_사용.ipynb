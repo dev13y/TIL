{
 "cells": [
  {
   "cell_type": "markdown",
   "id": "7892299c-9060-4714-bf37-d9ac310a1c3a",
   "metadata": {},
   "source": [
    "### 서울시 주유소 가격 정보를 갖고 있는 엑셀 파일 자동 다운로드\n",
    "- XPATH 사용"
   ]
  },
  {
   "cell_type": "code",
   "execution_count": null,
   "id": "4dec5a56-e134-4be0-93bb-6872743b6cef",
   "metadata": {},
   "outputs": [],
   "source": [
    "# XPATH \n",
    "# - XML Path Language\n",
    "# - XML 문서의 특정 요소 속성에 접근하기 위한 경로를 지정하는 언어\n",
    "# - XPATH 식 : 경로식 사용, 수학함수 기타 확장 가능한 표현(기호) 사용"
   ]
  },
  {
   "cell_type": "markdown",
   "id": "b2446715-eea3-4885-bc7c-84e019f58aa5",
   "metadata": {},
   "source": [
    "#### Opinet 사이트  \n",
    "https://www.opinet.co.kr/user/main/mainView.do  \n",
    "주유소의 가격을 비교하는 사이트  \n"
   ]
  },
  {
   "cell_type": "code",
   "execution_count": 1,
   "id": "2ee2e5e6-f478-464c-a7ac-3a4921de61a1",
   "metadata": {},
   "outputs": [],
   "source": [
    "\n",
    "# 메뉴에서 [싼 주유소 찾기] / [지역별]\n",
    "# 이 페이지부터 시작\n",
    "# https://www.opinet.co.kr/searRgSelect.do\n",
    "# 접속한 지역으로 자동 설정됨\n",
    "# 지역을 [서울] / [강남구] 로 선택"
   ]
  },
  {
   "cell_type": "code",
   "execution_count": 1,
   "id": "19a04a12-72a0-4549-838e-e4535eb0eda4",
   "metadata": {},
   "outputs": [],
   "source": [
    "from IPython.core.interactiveshell import InteractiveShell\n",
    "InteractiveShell.ast_node_interactivity=\"all\""
   ]
  },
  {
   "cell_type": "code",
   "execution_count": 2,
   "id": "e4373992-445c-4500-b735-497504c33354",
   "metadata": {},
   "outputs": [],
   "source": [
    "from urllib.request import urlopen\n",
    "import pandas as pd\n",
    "import bs4"
   ]
  },
  {
   "cell_type": "code",
   "execution_count": 3,
   "id": "7aa3d0d3-2d4c-4cda-b5f6-44601385278e",
   "metadata": {},
   "outputs": [],
   "source": [
    "import selenium\n",
    "from selenium import webdriver\n",
    "from selenium.webdriver.common.by import By # 셀레니움 4.0부터 포함된 객체(모듈)\n",
    "\n",
    "from selenium.webdriver.chrome.service import Service\n",
    "from webdriver_manager.chrome import ChromeDriverManager"
   ]
  },
  {
   "cell_type": "code",
   "execution_count": 4,
   "id": "2d5ed0a2-a9bb-4441-b7c1-feb952d1160c",
   "metadata": {},
   "outputs": [],
   "source": [
    "# (1) webdriver 객체 생성\n",
    "chrome_options = webdriver.ChromeOptions()\n",
    "driver = webdriver.Chrome(service=Service(ChromeDriverManager().install()), options=chrome_options)"
   ]
  },
  {
   "cell_type": "code",
   "execution_count": 5,
   "id": "393c05a3-e2de-40f7-ba9f-ec598329a2e8",
   "metadata": {},
   "outputs": [],
   "source": [
    "# 페이지 접속\n",
    "url = 'https://www.opinet.co.kr/searRgSelect.do'\n",
    "driver.get(url)\n",
    "\n",
    "# 다른 지역에서 접속 시\n",
    "# 페이지 열리면\n",
    "# 서울 강남구 선택"
   ]
  },
  {
   "cell_type": "code",
   "execution_count": null,
   "id": "5a9a05cd-64b6-4e69-81c4-854a95da93cc",
   "metadata": {},
   "outputs": [],
   "source": [
    "# XPATH 값 복사하기\n",
    "# 개발자도구 열고 [강남구] select 태그 선택하고\n",
    "# 오른쪽 코드에서 선택된 부분 우클릭 / [Copy}] / [Copy Xpath]\n",
    "# //*[@id=\"SIGUNGU_NM0\"]"
   ]
  },
  {
   "cell_type": "code",
   "execution_count": 8,
   "id": "c8bf2e19-e0f4-41ee-835b-8e909414b52a",
   "metadata": {},
   "outputs": [],
   "source": [
    "# Xpath : //*[@id=\"SIGUNGU_NM0\"]\n",
    "# Xpath 사용\n",
    "xpath = '//*[@id=\"SIGUNGU_NM0\"]'\n",
    "gu_list_raw = driver.find_element(By.XPATH, xpath)\n",
    "# gu_list_raw \n",
    "\n",
    "gu_list = gu_list_raw.find_elements(By.TAG_NAME, 'option')\n",
    "# gu_list # element\n",
    "# <selenium.webdriver.remote.webelement.WebElement (session=\"452699f3691a6dfdfe37e8d9d11b47cf\", element=\"47C2966F623140A7A14C409FB28E3927_element_476\")>"
   ]
  },
  {
   "cell_type": "code",
   "execution_count": 9,
   "id": "1eebd9bf-cfc9-49a2-9cc5-3e2efbee6162",
   "metadata": {},
   "outputs": [
    {
     "data": {
      "text/plain": [
       "['강남구',\n",
       " '강동구',\n",
       " '강북구',\n",
       " '강서구',\n",
       " '관악구',\n",
       " '광진구',\n",
       " '구로구',\n",
       " '금천구',\n",
       " '노원구',\n",
       " '도봉구',\n",
       " '동대문구',\n",
       " '동작구',\n",
       " '마포구',\n",
       " '서대문구',\n",
       " '서초구',\n",
       " '성동구',\n",
       " '성북구',\n",
       " '송파구',\n",
       " '양천구',\n",
       " '영등포구',\n",
       " '용산구',\n",
       " '은평구',\n",
       " '종로구',\n",
       " '중구',\n",
       " '중랑구']"
      ]
     },
     "execution_count": 9,
     "metadata": {},
     "output_type": "execute_result"
    }
   ],
   "source": [
    "# element에서 속성값 추출 \n",
    "# <select> 태그 내의 <option> 태그의 value 속성\n",
    "gu_name_list = [ opt.get_attribute('value')  for opt in gu_list ]\n",
    "gu_name_list.remove('')\n",
    "gu_name_list"
   ]
  },
  {
   "cell_type": "code",
   "execution_count": 10,
   "id": "d9307fc3-83fa-408c-8a64-e45ae0f9298e",
   "metadata": {},
   "outputs": [],
   "source": [
    "# 테스트\n",
    "# gu_name_list에 이쓴 구 이름에 해당되는 페이지가 동적으로 바뀌는지 확인\n",
    "# 첫 번째 구 이름(강남구)으로 확인\n",
    "sigungu_sel = driver.find_element(By.ID, 'SIGUNGU_NM0') # 첫 번째 강남구\n",
    "\n",
    "# option 태그의 value 값을 가져와서 \n",
    "# send_keys(구이름) 호출하면서 전달 (입력 값 전달)\n",
    "# 입력값에 해당되는 화면으로 전환되고\n",
    "# 전환된  화면에 바뀐 데이터 출력 \n",
    "\n",
    "sigungu_sel.send_keys(gu_name_list[2]) # 강북구 값 전달 \n",
    "# 인덱스 숫자 변경하면 지도에서 해당구의 지도로 자동 변경되는지 확인\n",
    "# send_keys() : 값을 전달해서 웹 브라우저 내용을 동적으로 변경하는 메소드"
   ]
  },
  {
   "cell_type": "code",
   "execution_count": null,
   "id": "4f5236c0-7c00-403e-b2df-d08b8cfbad55",
   "metadata": {},
   "outputs": [],
   "source": [
    "# 선택자로 선택\n",
    "# 기능 수행 : 다음 페이지로 전환해서 페이지 내의 데이터 추출\n",
    "# 기능 수행 메소드 2가지 방법\n",
    "# (1) send_keys()\n",
    "# (2) click()"
   ]
  },
  {
   "cell_type": "code",
   "execution_count": null,
   "id": "06937886-06d8-43ea-bf7b-d0f524fba74c",
   "metadata": {},
   "outputs": [],
   "source": [
    "# 엑셀 파일  자동 저장\n",
    "# 왼쪽 주유 가격 맨 아래에 [엑셀저장] 버튼을 자동 실행시켜서\n",
    "# 모든 구의  주유  정보를 포함하는 엑셀 파일을 자동으로 다운로드"
   ]
  },
  {
   "cell_type": "code",
   "execution_count": 12,
   "id": "2c766fb5-6b89-4ab5-a9e3-917932259553",
   "metadata": {},
   "outputs": [],
   "source": [
    "# 테스트 : 1개 파일 다운로드 되는지 확인\n",
    "# [엑셀저장] 버튼의 XPATH 복사해서 사용\n",
    "xpath = '//*[@id=\"glopopd_excel\"]'\n",
    "excel_path = driver.find_element(By.XPATH, xpath)\n",
    "excel_path.click()"
   ]
  },
  {
   "cell_type": "code",
   "execution_count": null,
   "id": "13ded5ad-715b-47cb-a298-f94cf4a628ed",
   "metadata": {},
   "outputs": [],
   "source": []
  },
  {
   "cell_type": "code",
   "execution_count": 13,
   "id": "58c90b38-e204-4518-b8f2-cc5eca53cf59",
   "metadata": {},
   "outputs": [],
   "source": [
    "driver.close()"
   ]
  },
  {
   "cell_type": "code",
   "execution_count": null,
   "id": "cdfb86c3-40c1-44a8-9846-438e1076af08",
   "metadata": {},
   "outputs": [],
   "source": []
  },
  {
   "cell_type": "code",
   "execution_count": null,
   "id": "28913884-d759-4d4d-b20f-b75c4c688741",
   "metadata": {},
   "outputs": [],
   "source": [
    "### 서울 시 모든 구의 주유가격 정보 파일 자동 다운로드"
   ]
  },
  {
   "cell_type": "code",
   "execution_count": 14,
   "id": "6b3467a7-fb54-4e42-889c-925ce9520e41",
   "metadata": {},
   "outputs": [],
   "source": [
    "# (1) webdriver 객체 생성\n",
    "chrome_options = webdriver.ChromeOptions()\n",
    "driver = webdriver.Chrome(service=Service(ChromeDriverManager().install()), options=chrome_options)"
   ]
  },
  {
   "cell_type": "code",
   "execution_count": 15,
   "id": "1df3c37f-67c4-4a6c-a27b-dc0ac534230c",
   "metadata": {},
   "outputs": [],
   "source": [
    "# 페이지 접속\n",
    "url = 'https://www.opinet.co.kr/searRgSelect.do'\n",
    "driver.get(url)\n",
    "\n",
    "# 다른 지역에서 접속 시\n",
    "# 페이지 열리면\n",
    "# 서울 강남구 선택"
   ]
  },
  {
   "cell_type": "code",
   "execution_count": null,
   "id": "6ade8cd8-f3e3-4357-bf7a-24b7af498e55",
   "metadata": {},
   "outputs": [],
   "source": [
    "# 진행 상황 표시 (프로그레스 바 출력하) : tqdm 패키지 사용\n",
    "# !pip install tqdm"
   ]
  },
  {
   "cell_type": "code",
   "execution_count": 16,
   "id": "ae04db42-9e57-4b5e-9858-df5db31e036a",
   "metadata": {},
   "outputs": [],
   "source": [
    "from tqdm.notebook import tqdm\n",
    "import time"
   ]
  },
  {
   "cell_type": "code",
   "execution_count": null,
   "id": "2e8ace13-079c-4b14-8d5b-adc6d7f1f0fb",
   "metadata": {},
   "outputs": [
    {
     "data": {
      "application/vnd.jupyter.widget-view+json": {
       "model_id": "2f716bcc75b34a77949b050172765505",
       "version_major": 2,
       "version_minor": 0
      },
      "text/plain": [
       "  0%|          | 0/25 [00:00<?, ?it/s]"
      ]
     },
     "metadata": {},
     "output_type": "display_data"
    }
   ],
   "source": [
    "for gu in tqdm(gu_name_list) : # 구별 페이지에서 데이터 추출하는 진행상황 표시 (프로그레스 바 출력)\n",
    "    # 구별로 '구이름' 값 전달하고(입력) 동적 페이지 실행\n",
    "    sigungu_sel = driver.find_element(By.XPATH, '//*[@id=\"SIGUNGU_NM0\"]')\n",
    "    sigungu_sel.send_keys(gu)\n",
    "\n",
    "    time.sleep(2)  # 2초 딜레이\n",
    "\n",
    "    # [엑셀저장] 버튼 클릭 실행\n",
    "    xpath = '//*[@id=\"glopopd_excel\"]'\n",
    "    excel_path = driver.find_element(By.XPATH, xpath)\n",
    "    excel_path .click()\n",
    "\n",
    "    time.sleep(2)  # 2초 딜레이\n",
    "    \n",
    "    "
   ]
  },
  {
   "cell_type": "code",
   "execution_count": 12,
   "id": "93fc598b-313f-4e41-8542-34b2d9094d51",
   "metadata": {},
   "outputs": [],
   "source": [
    "driver.close()"
   ]
  },
  {
   "cell_type": "code",
   "execution_count": null,
   "id": "dd3f1235-826b-46e2-b234-7f44da8afe29",
   "metadata": {},
   "outputs": [],
   "source": []
  }
 ],
 "metadata": {
  "kernelspec": {
   "display_name": "Python 3 (ipykernel)",
   "language": "python",
   "name": "python3"
  },
  "language_info": {
   "codemirror_mode": {
    "name": "ipython",
    "version": 3
   },
   "file_extension": ".py",
   "mimetype": "text/x-python",
   "name": "python",
   "nbconvert_exporter": "python",
   "pygments_lexer": "ipython3",
   "version": "3.11.5"
  }
 },
 "nbformat": 4,
 "nbformat_minor": 5
}
