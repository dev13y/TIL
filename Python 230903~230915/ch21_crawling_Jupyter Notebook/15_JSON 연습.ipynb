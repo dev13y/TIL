{
 "cells": [
  {
   "cell_type": "markdown",
   "id": "ef449059-8b13-412e-be96-bdc8de6a7145",
   "metadata": {},
   "source": [
    "### JSON (JavaScript Object Notation)  \n",
    "- 자바스크립트 객체 표기법  \n",
    "- key와 value 값이 쌍으로 구성된 형태의 객체 표기법  \n",
    "- 클라이언트와 서버 사이에서 정보를 교환하기 위한 목적으로 사용  \n",
    "- API 호출 결과 JSON 형태로 많이 반환   \n",
    "- XML 표기보다 간단  \n",
    "- 파일 확장명 : json (예: data.json)   \n",
    "- ‘제이선’, ‘제이썬’, ‘제이슨’ 등으로 읽음  "
   ]
  },
  {
   "cell_type": "code",
   "execution_count": 2,
   "id": "3983744b-b0af-44c6-9a5c-a7499b2efecb",
   "metadata": {},
   "outputs": [],
   "source": [
    "from IPython.core.interactiveshell import InteractiveShell\n",
    "InteractiveShell.ast_node_interactivity=\"all\""
   ]
  },
  {
   "cell_type": "code",
   "execution_count": 3,
   "id": "4203fc91-a436-41e9-b73e-7e3a511cf17d",
   "metadata": {},
   "outputs": [],
   "source": [
    "import json"
   ]
  },
  {
   "cell_type": "code",
   "execution_count": 4,
   "id": "42887058-d6a7-4e05-bdeb-54db35184b46",
   "metadata": {},
   "outputs": [
    {
     "data": {
      "text/plain": [
       "{'name': '홍길동', 'age': '33'}"
      ]
     },
     "execution_count": 4,
     "metadata": {},
     "output_type": "execute_result"
    }
   ],
   "source": [
    "# JSON 형식의 문자열\n",
    "json_str = '{\"name\":\"홍길동\", \"age\":\"33\"}'\n",
    "\n",
    "# JSON 형식의 문자열을 JSON 객체로 변환 : loads() 메소드 사용\n",
    "json_obj = json.loads(json_str)\n",
    "json_obj"
   ]
  },
  {
   "cell_type": "code",
   "execution_count": 5,
   "id": "a46641ee-0ed1-4e5b-8ff7-82cca1091b4b",
   "metadata": {},
   "outputs": [
    {
     "data": {
      "text/plain": [
       "dict"
      ]
     },
     "execution_count": 5,
     "metadata": {},
     "output_type": "execute_result"
    }
   ],
   "source": [
    "type(json_obj)"
   ]
  },
  {
   "cell_type": "code",
   "execution_count": 7,
   "id": "e3bf0feb-cc10-41f1-bda6-9660d0216fa4",
   "metadata": {},
   "outputs": [
    {
     "data": {
      "text/plain": [
       "'홍길동'"
      ]
     },
     "execution_count": 7,
     "metadata": {},
     "output_type": "execute_result"
    },
    {
     "data": {
      "text/plain": [
       "'33'"
      ]
     },
     "execution_count": 7,
     "metadata": {},
     "output_type": "execute_result"
    }
   ],
   "source": [
    "# 각 요소의 값 추출 : get() 메소드 사용\n",
    "json_obj.get(\"name\")\n",
    "json_obj.get(\"age\")"
   ]
  },
  {
   "cell_type": "code",
   "execution_count": 8,
   "id": "b3f0faf1-770e-441e-8176-a46f220e73ce",
   "metadata": {},
   "outputs": [
    {
     "data": {
      "text/plain": [
       "'홍길동'"
      ]
     },
     "execution_count": 8,
     "metadata": {},
     "output_type": "execute_result"
    },
    {
     "data": {
      "text/plain": [
       "'33'"
      ]
     },
     "execution_count": 8,
     "metadata": {},
     "output_type": "execute_result"
    }
   ],
   "source": [
    "# 각 요소의 값 추출 : key 사용\n",
    "json_obj['name']\n",
    "json_obj['age']"
   ]
  },
  {
   "cell_type": "code",
   "execution_count": 10,
   "id": "ca7fc703-7cac-4501-a30d-aa723115776f",
   "metadata": {},
   "outputs": [
    {
     "data": {
      "text/plain": [
       "{'fruits': [{'fruit': 'apple'}, {'fruit': 'pear'}, {'fruit': 'banana'}],\n",
       " 'prices': [{'price': 1000}, {'price': 2000}, {'price': 3000}]}"
      ]
     },
     "execution_count": 10,
     "metadata": {},
     "output_type": "execute_result"
    }
   ],
   "source": [
    "json_str = '''\n",
    "    {\"fruits\":[{\"fruit\":\"apple\"}, {\"fruit\":\"pear\"}, {\"fruit\":\"banana\"}],\n",
    "     \"prices\":[{\"price\":1000}, {\"price\":2000}, {\"price\":3000}]}\n",
    "'''\n",
    "\n",
    "# JSON 형식의 문자열을 JSON 객체로 변환\n",
    "json_obj = json.loads(json_str)\n",
    "json_obj"
   ]
  },
  {
   "cell_type": "code",
   "execution_count": 13,
   "id": "da41631b-f14d-4401-bbde-23963d1f3b4a",
   "metadata": {},
   "outputs": [
    {
     "data": {
      "text/plain": [
       "[{'fruit': 'apple'}, {'fruit': 'pear'}, {'fruit': 'banana'}]"
      ]
     },
     "execution_count": 13,
     "metadata": {},
     "output_type": "execute_result"
    },
    {
     "data": {
      "text/plain": [
       "[{'fruit': 'apple'}, {'fruit': 'pear'}, {'fruit': 'banana'}]"
      ]
     },
     "execution_count": 13,
     "metadata": {},
     "output_type": "execute_result"
    }
   ],
   "source": [
    "# 변수명 fruits 요소 출력\n",
    "json_obj.get('fruits')\n",
    "json_obj['fruits']"
   ]
  },
  {
   "cell_type": "code",
   "execution_count": 15,
   "id": "17cb7270-bb77-4d22-92bb-0b263033f32e",
   "metadata": {},
   "outputs": [
    {
     "data": {
      "text/plain": [
       "{'fruit': 'apple'}"
      ]
     },
     "execution_count": 15,
     "metadata": {},
     "output_type": "execute_result"
    },
    {
     "data": {
      "text/plain": [
       "{'fruit': 'apple'}"
      ]
     },
     "execution_count": 15,
     "metadata": {},
     "output_type": "execute_result"
    }
   ],
   "source": [
    "json_obj.get('fruits')[0]\n",
    "json_obj['fruits'][0]"
   ]
  },
  {
   "cell_type": "code",
   "execution_count": 18,
   "id": "b8d13c3b-c8d1-4ab8-ba8b-a88447bbd4d8",
   "metadata": {},
   "outputs": [
    {
     "data": {
      "text/plain": [
       "'apple'"
      ]
     },
     "execution_count": 18,
     "metadata": {},
     "output_type": "execute_result"
    },
    {
     "data": {
      "text/plain": [
       "'apple'"
      ]
     },
     "execution_count": 18,
     "metadata": {},
     "output_type": "execute_result"
    },
    {
     "name": "stdout",
     "output_type": "stream",
     "text": [
      "apple\n"
     ]
    }
   ],
   "source": [
    "# apple 추출\n",
    "json_obj.get('fruits')[0].get('fruit')\n",
    "json_obj['fruits'][0]['fruit']\n",
    "print(json_obj['fruits'][0]['fruit'])"
   ]
  },
  {
   "cell_type": "code",
   "execution_count": 17,
   "id": "d066a61b-4e53-44fa-b363-9b5331397bdf",
   "metadata": {},
   "outputs": [
    {
     "data": {
      "text/plain": [
       "1000"
      ]
     },
     "execution_count": 17,
     "metadata": {},
     "output_type": "execute_result"
    },
    {
     "data": {
      "text/plain": [
       "1000"
      ]
     },
     "execution_count": 17,
     "metadata": {},
     "output_type": "execute_result"
    }
   ],
   "source": [
    "# 1000 추출\n",
    "json_obj['prices'][0]['price']\n",
    "json_obj.get('prices')[0].get('price')"
   ]
  },
  {
   "cell_type": "code",
   "execution_count": null,
   "id": "1773b7dc-4c4b-4ab3-a5bb-9c5db6e3316f",
   "metadata": {},
   "outputs": [],
   "source": [
    "apple\n",
    "pear\n",
    "banna\n",
    "\n",
    "1000\n",
    "2000\n",
    "3000\n",
    "\n",
    "apple 1000\n",
    "pear 2000\n",
    "banna 3000"
   ]
  },
  {
   "cell_type": "code",
   "execution_count": null,
   "id": "baf997d5-b79d-4a90-ac7f-4fa26e2bf1aa",
   "metadata": {},
   "outputs": [],
   "source": [
    "for 변수 in 리스트:\n",
    "    변수[키]"
   ]
  },
  {
   "cell_type": "code",
   "execution_count": 22,
   "id": "849002e5-06ae-4607-9452-dbec6903f3e2",
   "metadata": {},
   "outputs": [
    {
     "name": "stdout",
     "output_type": "stream",
     "text": [
      "apple\n",
      "pear\n",
      "banana\n",
      "\n",
      "1000\n",
      "2000\n",
      "3000\n",
      "\n",
      "apple 1000\n",
      "pear 2000\n",
      "banana 3000\n"
     ]
    }
   ],
   "source": [
    "for item in json_obj['fruits']:\n",
    "   print(item['fruit'])\n",
    "\n",
    "print()\n",
    "\n",
    "for item in json_obj['prices']:\n",
    "   print(item['price'])\n",
    "\n",
    "print()\n",
    "\n",
    "for f, p in zip(json_obj['fruits'], json_obj['prices']):\n",
    "    print(f['fruit'], p['price'])"
   ]
  },
  {
   "cell_type": "code",
   "execution_count": null,
   "id": "b8e0e836-0b1f-4693-8009-d9b961877518",
   "metadata": {},
   "outputs": [],
   "source": []
  },
  {
   "cell_type": "code",
   "execution_count": null,
   "id": "65bb900d-7d6e-41de-8470-9ca09b0a790f",
   "metadata": {},
   "outputs": [],
   "source": []
  },
  {
   "cell_type": "code",
   "execution_count": null,
   "id": "1299ee01-2d02-47da-ad90-fce2c44061c1",
   "metadata": {},
   "outputs": [],
   "source": []
  },
  {
   "cell_type": "code",
   "execution_count": null,
   "id": "51776d8a-e708-436c-b875-116ad13f6bd6",
   "metadata": {},
   "outputs": [],
   "source": []
  }
 ],
 "metadata": {
  "kernelspec": {
   "display_name": "Python 3 (ipykernel)",
   "language": "python",
   "name": "python3"
  },
  "language_info": {
   "codemirror_mode": {
    "name": "ipython",
    "version": 3
   },
   "file_extension": ".py",
   "mimetype": "text/x-python",
   "name": "python",
   "nbconvert_exporter": "python",
   "pygments_lexer": "ipython3",
   "version": "3.11.5"
  }
 },
 "nbformat": 4,
 "nbformat_minor": 5
}
