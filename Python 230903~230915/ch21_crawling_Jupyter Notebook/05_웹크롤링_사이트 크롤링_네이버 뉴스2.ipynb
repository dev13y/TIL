{
 "cells": [
  {
   "cell_type": "markdown",
   "id": "9500ecd6-c54b-4ba9-8547-b763383c103c",
   "metadata": {},
   "source": [
    "### (1) 네이버 뉴스 섹션별 헤드라인(topic) 페이지 크롤링"
   ]
  },
  {
   "cell_type": "code",
   "execution_count": 1,
   "id": "8954a92b-239e-491b-9cf3-9c7f2cc176a4",
   "metadata": {},
   "outputs": [],
   "source": [
    "from IPython.core.interactiveshell import InteractiveShell\n",
    "InteractiveShell.ast_node_interactivity=\"all\""
   ]
  },
  {
   "cell_type": "code",
   "execution_count": 2,
   "id": "3add4c6b-d7a4-47ff-842b-954788a4fd89",
   "metadata": {},
   "outputs": [],
   "source": [
    "# !pip install pandas"
   ]
  },
  {
   "cell_type": "code",
   "execution_count": 3,
   "id": "cc629a96-35bf-4a0b-a9d1-8c3ad933786c",
   "metadata": {},
   "outputs": [],
   "source": [
    "from urllib.request import urlopen\n",
    "import pandas as pd\n",
    "import bs4"
   ]
  },
  {
   "cell_type": "code",
   "execution_count": 4,
   "id": "02c5242c-c25e-47e3-b9c2-39e15f84a380",
   "metadata": {},
   "outputs": [
    {
     "data": {
      "text/html": [
       "<div>\n",
       "<style scoped>\n",
       "    .dataframe tbody tr th:only-of-type {\n",
       "        vertical-align: middle;\n",
       "    }\n",
       "\n",
       "    .dataframe tbody tr th {\n",
       "        vertical-align: top;\n",
       "    }\n",
       "\n",
       "    .dataframe thead th {\n",
       "        text-align: right;\n",
       "    }\n",
       "</style>\n",
       "<table border=\"1\" class=\"dataframe\">\n",
       "  <thead>\n",
       "    <tr style=\"text-align: right;\">\n",
       "      <th></th>\n",
       "      <th>section</th>\n",
       "      <th>link</th>\n",
       "    </tr>\n",
       "  </thead>\n",
       "  <tbody>\n",
       "    <tr>\n",
       "      <th>0</th>\n",
       "      <td>언론사별</td>\n",
       "      <td>https://news.naver.com/?viewType=pc</td>\n",
       "    </tr>\n",
       "    <tr>\n",
       "      <th>1</th>\n",
       "      <td>정치</td>\n",
       "      <td>https://news.naver.com/main/main.naver?mode=LS...</td>\n",
       "    </tr>\n",
       "    <tr>\n",
       "      <th>2</th>\n",
       "      <td>경제</td>\n",
       "      <td>https://news.naver.com/main/main.naver?mode=LS...</td>\n",
       "    </tr>\n",
       "    <tr>\n",
       "      <th>3</th>\n",
       "      <td>사회</td>\n",
       "      <td>https://news.naver.com/main/main.naver?mode=LS...</td>\n",
       "    </tr>\n",
       "    <tr>\n",
       "      <th>4</th>\n",
       "      <td>생활/문화</td>\n",
       "      <td>https://news.naver.com/main/main.naver?mode=LS...</td>\n",
       "    </tr>\n",
       "    <tr>\n",
       "      <th>5</th>\n",
       "      <td>IT/과학</td>\n",
       "      <td>https://news.naver.com/main/main.naver?mode=LS...</td>\n",
       "    </tr>\n",
       "    <tr>\n",
       "      <th>6</th>\n",
       "      <td>세계</td>\n",
       "      <td>https://news.naver.com/main/main.naver?mode=LS...</td>\n",
       "    </tr>\n",
       "    <tr>\n",
       "      <th>7</th>\n",
       "      <td>랭킹</td>\n",
       "      <td>https://news.naver.com/main/ranking/popularDay...</td>\n",
       "    </tr>\n",
       "    <tr>\n",
       "      <th>8</th>\n",
       "      <td>신문보기</td>\n",
       "      <td>https://news.naver.com/newspaper/home?viewType=pc</td>\n",
       "    </tr>\n",
       "    <tr>\n",
       "      <th>9</th>\n",
       "      <td>오피니언</td>\n",
       "      <td>https://news.naver.com/opinion/home</td>\n",
       "    </tr>\n",
       "    <tr>\n",
       "      <th>10</th>\n",
       "      <td>TV</td>\n",
       "      <td>https://news.naver.com/main/tv/index.naver?mid...</td>\n",
       "    </tr>\n",
       "    <tr>\n",
       "      <th>11</th>\n",
       "      <td>팩트체크</td>\n",
       "      <td>https://news.naver.com/main/factcheck/main.naver</td>\n",
       "    </tr>\n",
       "    <tr>\n",
       "      <th>12</th>\n",
       "      <td>알고리즘 안내</td>\n",
       "      <td>https://media.naver.com/algorithm</td>\n",
       "    </tr>\n",
       "  </tbody>\n",
       "</table>\n",
       "</div>"
      ],
      "text/plain": [
       "    section                                               link\n",
       "0      언론사별                https://news.naver.com/?viewType=pc\n",
       "1        정치  https://news.naver.com/main/main.naver?mode=LS...\n",
       "2        경제  https://news.naver.com/main/main.naver?mode=LS...\n",
       "3        사회  https://news.naver.com/main/main.naver?mode=LS...\n",
       "4     생활/문화  https://news.naver.com/main/main.naver?mode=LS...\n",
       "5     IT/과학  https://news.naver.com/main/main.naver?mode=LS...\n",
       "6        세계  https://news.naver.com/main/main.naver?mode=LS...\n",
       "7        랭킹  https://news.naver.com/main/ranking/popularDay...\n",
       "8      신문보기  https://news.naver.com/newspaper/home?viewType=pc\n",
       "9      오피니언                https://news.naver.com/opinion/home\n",
       "10       TV  https://news.naver.com/main/tv/index.naver?mid...\n",
       "11     팩트체크   https://news.naver.com/main/factcheck/main.naver\n",
       "12  알고리즘 안내                  https://media.naver.com/algorithm"
      ]
     },
     "execution_count": 4,
     "metadata": {},
     "output_type": "execute_result"
    }
   ],
   "source": [
    "# 네이버 뉴스1에서 저장한 naver_news_section.csv 읽어오기\n",
    "section_menu_df = pd.read_csv('./crawl_data/naver_news_section.csv')\n",
    "section_menu_df"
   ]
  },
  {
   "cell_type": "code",
   "execution_count": 5,
   "id": "7a78bc18-5432-4918-b47c-27689f879a9b",
   "metadata": {},
   "outputs": [
    {
     "data": {
      "text/plain": [
       "'https://news.naver.com/main/main.naver?mode=LSD&mid=shm&sid1=101'"
      ]
     },
     "execution_count": 5,
     "metadata": {},
     "output_type": "execute_result"
    }
   ],
   "source": [
    "# 경제 섹션 링크 확인\n",
    "section_menu_df['link'][2]"
   ]
  },
  {
   "cell_type": "code",
   "execution_count": 6,
   "id": "433b2225-913f-4ba4-834b-ec557e0c5134",
   "metadata": {},
   "outputs": [],
   "source": [
    "url = section_menu_df['link'][2] # [2] : 경제 섹션 1개에 해당\n",
    "html = urlopen(url)\n",
    "bs_obj = bs4.BeautifulSoup(html, 'html.parser')"
   ]
  },
  {
   "cell_type": "code",
   "execution_count": 7,
   "id": "1114cba6-0ba5-41da-9ec2-0ee0b97784d4",
   "metadata": {},
   "outputs": [],
   "source": [
    "# bs_obj"
   ]
  },
  {
   "cell_type": "code",
   "execution_count": 8,
   "id": "1929c9f7-334d-427e-9ae2-ebd66c3ee75c",
   "metadata": {},
   "outputs": [],
   "source": [
    "# 네이버 뉴스 섹션을 확인하면 \n",
    "# 섹션별 헤드라인(topic)이 있고 \n",
    "# topic의 title과 link를 크롤링할 예정"
   ]
  },
  {
   "cell_type": "code",
   "execution_count": 9,
   "id": "b43b4732-bd6d-436e-9e73-22752e382ea5",
   "metadata": {},
   "outputs": [
    {
     "data": {
      "text/plain": [
       "10"
      ]
     },
     "execution_count": 9,
     "metadata": {},
     "output_type": "execute_result"
    }
   ],
   "source": [
    "# 헤드라인 뉴스에서 각 topic 추출 : <div class='sh_text'>\n",
    "# 섹션 중에서 정치 ~ 세계 6개 섹션에 동일한 포맷 \n",
    "topic_list = bs_obj.findAll('div', {'class':'sh_text'})\n",
    "len(topic_list)"
   ]
  },
  {
   "cell_type": "code",
   "execution_count": 10,
   "id": "ae684d73-3be3-4abf-bf1e-1ebd8599a50d",
   "metadata": {},
   "outputs": [
    {
     "data": {
      "text/plain": [
       "10"
      ]
     },
     "execution_count": 10,
     "metadata": {},
     "output_type": "execute_result"
    }
   ],
   "source": [
    "# 참고 : select() 사용하는 경우\n",
    "topic_list2 = bs_obj.select('div.sh_text')\n",
    "len(topic_list2)"
   ]
  },
  {
   "cell_type": "code",
   "execution_count": 11,
   "id": "928fdc71-59d2-4fed-980a-dd3fbad2cf1c",
   "metadata": {},
   "outputs": [
    {
     "data": {
      "text/plain": [
       "<a class=\"sh_text_headline nclicks(cls_eco.clsart)\" href=\"https://n.news.naver.com/mnews/article/277/0005313304?sid=101\">현대차, 임단협 잠정합의… 기본급 11만1000원 인상(종합)</a>"
      ]
     },
     "execution_count": 11,
     "metadata": {},
     "output_type": "execute_result"
    },
    {
     "data": {
      "text/plain": [
       "'현대차, 임단협 잠정합의… 기본급 11만1000원 인상(종합)'"
      ]
     },
     "execution_count": 11,
     "metadata": {},
     "output_type": "execute_result"
    },
    {
     "data": {
      "text/plain": [
       "'https://n.news.naver.com/mnews/article/277/0005313304?sid=101'"
      ]
     },
     "execution_count": 11,
     "metadata": {},
     "output_type": "execute_result"
    }
   ],
   "source": [
    "# topic_list에서는 <a>태그의 text는 제목, href 속성은 링크에 해당\n",
    "# 첫 번째 1개만 확인\n",
    "topic_list[0].find('a')\n",
    "topic_list[0].find('a').text\n",
    "topic_list[0].find('a')['href']"
   ]
  },
  {
   "cell_type": "code",
   "execution_count": 12,
   "id": "3709e3e1-5489-469e-b32e-a2fb9d77c53d",
   "metadata": {},
   "outputs": [
    {
     "name": "stdout",
     "output_type": "stream",
     "text": [
      "현대차, 임단협 잠정합의… 기본급 11만1000원 인상(종합)\n",
      "https://n.news.naver.com/mnews/article/277/0005313304?sid=101\n",
      "뉴욕 유가, 공급 부족 우려에 연중 최고치 경신\n",
      "https://n.news.naver.com/mnews/article/052/0001934884?sid=101\n",
      "문턱 높아진 주택담보대출…인터넷銀 금리, 시중銀보다 높아져\n",
      "https://n.news.naver.com/mnews/article/015/0004890886?sid=101\n",
      "현대차그룹 계열사, 수소 전시회 ‘H2 MEET 2023’ 총출동\n",
      "https://n.news.naver.com/mnews/article/018/0005573660?sid=101\n",
      "내일 방문규 산업장관 후보자 인사청문회 실시\n",
      "https://n.news.naver.com/mnews/article/422/0000619086?sid=101\n",
      "대한상의 \"탄소배출권 가격 급락···이월 제한 조치 완화해야\"\n",
      "https://n.news.naver.com/mnews/article/031/0000772565?sid=101\n",
      "경북 수산물 소비 촉진 시식 행사\n",
      "https://n.news.naver.com/mnews/article/056/0011564655?sid=101\n",
      "추경호 “한국 첨단산업과 아프리카 잠재력 결합하면 국제사회 강력한 연대”\n",
      "https://n.news.naver.com/mnews/article/016/0002196952?sid=101\n",
      "방문규 산업장관 후보 \"탈원전, 한전 적자 중요 원인\"\n",
      "https://n.news.naver.com/mnews/article/448/0000427483?sid=101\n",
      "車공학회연합 회장에 ‘현대차·기아 김창환 배터리개발센터장’ 선출\n",
      "https://n.news.naver.com/mnews/article/009/0005185824?sid=101\n"
     ]
    }
   ],
   "source": [
    "# topic_list에서 전체 title과 link 출력 \n",
    "# 반복문 사용 + 예외 처리 (try ~ except)\n",
    "\n",
    "for topic in topic_list:    \n",
    "    try :\n",
    "        a = topic.find('a')\n",
    "        print(a.text)\n",
    "        print(a['href'])\n",
    "    except:\n",
    "        print('오류 발생')\n",
    "        # pass\n",
    "        \n"
   ]
  },
  {
   "cell_type": "markdown",
   "id": "8e484e14-354a-41cc-8a58-cebeda995c01",
   "metadata": {},
   "source": [
    "#### 수집한 데이터를 데이터프레임으로 생성하고, 파일로 저장"
   ]
  },
  {
   "cell_type": "code",
   "execution_count": 13,
   "id": "c2b91736-e4ae-4e88-a6db-5f7dd911166f",
   "metadata": {},
   "outputs": [],
   "source": [
    "# 빈 리스트  생성\n",
    "topic_title = []\n",
    "topic_link = []"
   ]
  },
  {
   "cell_type": "code",
   "execution_count": 14,
   "id": "5bb83052-7b40-4513-b767-b40ce34400e6",
   "metadata": {},
   "outputs": [],
   "source": [
    "# topic의 title과 link를 리스트에 저장\n",
    "for topic in topic_list:    \n",
    "    try :\n",
    "        a = topic.find('a')\n",
    "        topic_title.append(a.text)\n",
    "        topic_link.append(a['href'])\n",
    "    except:\n",
    "        print('오류 발생')\n",
    "        # pass"
   ]
  },
  {
   "cell_type": "code",
   "execution_count": 15,
   "id": "e99238cc-1754-4558-98ba-cfff8ed0d0c8",
   "metadata": {},
   "outputs": [
    {
     "data": {
      "text/plain": [
       "['현대차, 임단협 잠정합의… 기본급 11만1000원 인상(종합)',\n",
       " '뉴욕 유가, 공급 부족 우려에 연중 최고치 경신',\n",
       " '문턱 높아진 주택담보대출…인터넷銀 금리, 시중銀보다 높아져',\n",
       " '현대차그룹 계열사, 수소 전시회 ‘H2 MEET 2023’ 총출동',\n",
       " '내일 방문규 산업장관 후보자 인사청문회 실시',\n",
       " '대한상의 \"탄소배출권 가격 급락···이월 제한 조치 완화해야\"',\n",
       " '경북 수산물 소비 촉진 시식 행사',\n",
       " '추경호 “한국 첨단산업과 아프리카 잠재력 결합하면 국제사회 강력한 연대”',\n",
       " '방문규 산업장관 후보 \"탈원전, 한전 적자 중요 원인\"',\n",
       " '車공학회연합 회장에 ‘현대차·기아 김창환 배터리개발센터장’ 선출']"
      ]
     },
     "execution_count": 15,
     "metadata": {},
     "output_type": "execute_result"
    },
    {
     "data": {
      "text/plain": [
       "['https://n.news.naver.com/mnews/article/277/0005313304?sid=101',\n",
       " 'https://n.news.naver.com/mnews/article/052/0001934884?sid=101',\n",
       " 'https://n.news.naver.com/mnews/article/015/0004890886?sid=101',\n",
       " 'https://n.news.naver.com/mnews/article/018/0005573660?sid=101',\n",
       " 'https://n.news.naver.com/mnews/article/422/0000619086?sid=101',\n",
       " 'https://n.news.naver.com/mnews/article/031/0000772565?sid=101',\n",
       " 'https://n.news.naver.com/mnews/article/056/0011564655?sid=101',\n",
       " 'https://n.news.naver.com/mnews/article/016/0002196952?sid=101',\n",
       " 'https://n.news.naver.com/mnews/article/448/0000427483?sid=101',\n",
       " 'https://n.news.naver.com/mnews/article/009/0005185824?sid=101']"
      ]
     },
     "execution_count": 15,
     "metadata": {},
     "output_type": "execute_result"
    }
   ],
   "source": [
    "topic_title\n",
    "topic_link"
   ]
  },
  {
   "cell_type": "code",
   "execution_count": 16,
   "id": "d21dfd18-7ff8-4965-8674-0e7de98c91c5",
   "metadata": {},
   "outputs": [
    {
     "data": {
      "text/html": [
       "<div>\n",
       "<style scoped>\n",
       "    .dataframe tbody tr th:only-of-type {\n",
       "        vertical-align: middle;\n",
       "    }\n",
       "\n",
       "    .dataframe tbody tr th {\n",
       "        vertical-align: top;\n",
       "    }\n",
       "\n",
       "    .dataframe thead th {\n",
       "        text-align: right;\n",
       "    }\n",
       "</style>\n",
       "<table border=\"1\" class=\"dataframe\">\n",
       "  <thead>\n",
       "    <tr style=\"text-align: right;\">\n",
       "      <th></th>\n",
       "      <th>title</th>\n",
       "      <th>url</th>\n",
       "    </tr>\n",
       "  </thead>\n",
       "  <tbody>\n",
       "    <tr>\n",
       "      <th>0</th>\n",
       "      <td>현대차, 임단협 잠정합의… 기본급 11만1000원 인상(종합)</td>\n",
       "      <td>https://n.news.naver.com/mnews/article/277/000...</td>\n",
       "    </tr>\n",
       "    <tr>\n",
       "      <th>1</th>\n",
       "      <td>뉴욕 유가, 공급 부족 우려에 연중 최고치 경신</td>\n",
       "      <td>https://n.news.naver.com/mnews/article/052/000...</td>\n",
       "    </tr>\n",
       "    <tr>\n",
       "      <th>2</th>\n",
       "      <td>문턱 높아진 주택담보대출…인터넷銀 금리, 시중銀보다 높아져</td>\n",
       "      <td>https://n.news.naver.com/mnews/article/015/000...</td>\n",
       "    </tr>\n",
       "    <tr>\n",
       "      <th>3</th>\n",
       "      <td>현대차그룹 계열사, 수소 전시회 ‘H2 MEET 2023’ 총출동</td>\n",
       "      <td>https://n.news.naver.com/mnews/article/018/000...</td>\n",
       "    </tr>\n",
       "    <tr>\n",
       "      <th>4</th>\n",
       "      <td>내일 방문규 산업장관 후보자 인사청문회 실시</td>\n",
       "      <td>https://n.news.naver.com/mnews/article/422/000...</td>\n",
       "    </tr>\n",
       "    <tr>\n",
       "      <th>5</th>\n",
       "      <td>대한상의 \"탄소배출권 가격 급락···이월 제한 조치 완화해야\"</td>\n",
       "      <td>https://n.news.naver.com/mnews/article/031/000...</td>\n",
       "    </tr>\n",
       "    <tr>\n",
       "      <th>6</th>\n",
       "      <td>경북 수산물 소비 촉진 시식 행사</td>\n",
       "      <td>https://n.news.naver.com/mnews/article/056/001...</td>\n",
       "    </tr>\n",
       "    <tr>\n",
       "      <th>7</th>\n",
       "      <td>추경호 “한국 첨단산업과 아프리카 잠재력 결합하면 국제사회 강력한 연대”</td>\n",
       "      <td>https://n.news.naver.com/mnews/article/016/000...</td>\n",
       "    </tr>\n",
       "    <tr>\n",
       "      <th>8</th>\n",
       "      <td>방문규 산업장관 후보 \"탈원전, 한전 적자 중요 원인\"</td>\n",
       "      <td>https://n.news.naver.com/mnews/article/448/000...</td>\n",
       "    </tr>\n",
       "    <tr>\n",
       "      <th>9</th>\n",
       "      <td>車공학회연합 회장에 ‘현대차·기아 김창환 배터리개발센터장’ 선출</td>\n",
       "      <td>https://n.news.naver.com/mnews/article/009/000...</td>\n",
       "    </tr>\n",
       "  </tbody>\n",
       "</table>\n",
       "</div>"
      ],
      "text/plain": [
       "                                      title  \\\n",
       "0        현대차, 임단협 잠정합의… 기본급 11만1000원 인상(종합)   \n",
       "1                뉴욕 유가, 공급 부족 우려에 연중 최고치 경신   \n",
       "2          문턱 높아진 주택담보대출…인터넷銀 금리, 시중銀보다 높아져   \n",
       "3      현대차그룹 계열사, 수소 전시회 ‘H2 MEET 2023’ 총출동   \n",
       "4                  내일 방문규 산업장관 후보자 인사청문회 실시   \n",
       "5        대한상의 \"탄소배출권 가격 급락···이월 제한 조치 완화해야\"   \n",
       "6                        경북 수산물 소비 촉진 시식 행사   \n",
       "7  추경호 “한국 첨단산업과 아프리카 잠재력 결합하면 국제사회 강력한 연대”   \n",
       "8            방문규 산업장관 후보 \"탈원전, 한전 적자 중요 원인\"   \n",
       "9       車공학회연합 회장에 ‘현대차·기아 김창환 배터리개발센터장’ 선출   \n",
       "\n",
       "                                                 url  \n",
       "0  https://n.news.naver.com/mnews/article/277/000...  \n",
       "1  https://n.news.naver.com/mnews/article/052/000...  \n",
       "2  https://n.news.naver.com/mnews/article/015/000...  \n",
       "3  https://n.news.naver.com/mnews/article/018/000...  \n",
       "4  https://n.news.naver.com/mnews/article/422/000...  \n",
       "5  https://n.news.naver.com/mnews/article/031/000...  \n",
       "6  https://n.news.naver.com/mnews/article/056/001...  \n",
       "7  https://n.news.naver.com/mnews/article/016/000...  \n",
       "8  https://n.news.naver.com/mnews/article/448/000...  \n",
       "9  https://n.news.naver.com/mnews/article/009/000...  "
      ]
     },
     "execution_count": 16,
     "metadata": {},
     "output_type": "execute_result"
    }
   ],
   "source": [
    "# 데이터프레임 생성\n",
    "topic_df = pd.DataFrame({'title':topic_title, 'url':topic_link})\n",
    "topic_df\n",
    "# pd.DataFrame({'컬럼명':리스트, '컬럼명':리스트})"
   ]
  },
  {
   "cell_type": "code",
   "execution_count": 17,
   "id": "0b7f1f15-1a62-4e6e-8b64-b216638650be",
   "metadata": {},
   "outputs": [],
   "source": [
    "# 파일로 저장\n",
    "topic_df.to_csv('./crawl_data/naver_news_topic.csv', index=0)"
   ]
  },
  {
   "cell_type": "code",
   "execution_count": 18,
   "id": "d7721ef6-6cd5-4a87-b636-d95a66973cb9",
   "metadata": {},
   "outputs": [],
   "source": [
    "# 파일 열어서 저장한 내용 확인\n",
    "topic_df = pd.read_csv('./crawl_data/naver_news_topic.csv')\n",
    "# topic_df"
   ]
  },
  {
   "cell_type": "code",
   "execution_count": 19,
   "id": "e7d5057c-31f8-421c-9988-ac6a9302da82",
   "metadata": {},
   "outputs": [],
   "source": [
    "############################################################################"
   ]
  },
  {
   "cell_type": "markdown",
   "id": "afcbea40-eba0-4837-8831-83a1eea989bc",
   "metadata": {},
   "source": [
    "#### 지금까지 한 내용을 결합해서 함수로 구성\n",
    "- 현재 경제 섹션 1개에 대해서 처리했는데\n",
    "- 다른 섹션에도 적용하기 위해 함수로 구성\n",
    "- 함수명 : get_topic(url)\n",
    "      - 섹션별 수집한 데이터를 딕셔너리로 구성 후 반환\n",
    "- 반환된 딕셔너리를 데이터프레임에 추가해서 최종 데이터프레임 완성\n",
    "  "
   ]
  },
  {
   "cell_type": "markdown",
   "id": "465ede41-8d8e-48e9-b6db-a3f3a477b1bb",
   "metadata": {},
   "source": [
    "#### 사이트 접속해서 요청하는 방법\n",
    "(1) urllib의 request 사용 : from urllib.request import urlopen  \n",
    "    - urlopen(url)  \n",
    "(2) requests 패키지 사용  \n",
    "    - requests.get(url, headers)   \n",
    "    - http 요청 관련 기능이 더 포함되어 있음"
   ]
  },
  {
   "cell_type": "markdown",
   "id": "9f2e8d84-c111-4bdd-aca8-421d0746d3b0",
   "metadata": {},
   "source": [
    "#### 참고\n",
    "- 접속할 때 자동화 봇으로 간주하고 연결을 끊는 경우가 발생  \n",
    "- 서버에 요청 시 header 구성해서  \n",
    "- 내 웹 브라우저의 User-Agent 정보 입력해서  \n",
    "- bot이 아님을 증명해야 함  \n",
    "- header 확인  \n",
    "    - 개발자 도구 (F12)  \n",
    "    - Network 탭에서  \n",
    "    - Headers 탭 / Request Headers 맨 아래에 User-Agent 확인  \n",
    "- {'User-Agent':'Mozilla/5.0 (Windows NT 10.0; Win64; x64) AppleWebKit/537.36 (KHTML, like Gecko) Chrome/116.0.0.0 Safari/537.36'}"
   ]
  },
  {
   "cell_type": "code",
   "execution_count": 20,
   "id": "4942f09d-9c1e-417c-9b70-d4bd5c710f07",
   "metadata": {},
   "outputs": [],
   "source": [
    "# !pip install requests"
   ]
  },
  {
   "cell_type": "code",
   "execution_count": 21,
   "id": "268642ae-f9b4-471c-869e-d8f02449cd52",
   "metadata": {},
   "outputs": [],
   "source": [
    "import requests"
   ]
  },
  {
   "cell_type": "code",
   "execution_count": 22,
   "id": "cba2066e-1b35-428d-9d99-078df6b00024",
   "metadata": {},
   "outputs": [],
   "source": [
    "# 요청 header 설정\n",
    "# url = section_menu_df['link'][2]\n",
    "# headers = {'User-Agent':'Mozilla/5.0 (Windows NT 10.0; Win64; x64) AppleWebKit/537.36 (KHTML, like Gecko) Chrome/116.0.0.0 Safari/537.36'}\n",
    "# res = requests.get(url, headers=headers)\n",
    "# html = res.text\n",
    "# bs_obj = bs4.BeautifulSoup(html, 'html.parser')"
   ]
  },
  {
   "cell_type": "code",
   "execution_count": 23,
   "id": "3021468c-8046-4df0-bd7f-13d991bac520",
   "metadata": {},
   "outputs": [],
   "source": [
    "# bs_obj"
   ]
  },
  {
   "cell_type": "code",
   "execution_count": 24,
   "id": "eb48a884-f672-4e58-9831-480ce87eb5e4",
   "metadata": {},
   "outputs": [],
   "source": [
    "# 함수로 구성\n",
    "# 섹션과 url 전달 받아서, 헤드라인 topic의 제목, 링크, 섹션을 추출하여\n",
    "# 딕셔너리로 만들어 반환하는 함수\n",
    "def get_topic(url, section):\n",
    "    # 접속 및 결과 파싱\n",
    "    headers = {'User-Agent':'Mozilla/5.0 (Windows NT 10.0; Win64; x64) AppleWebKit/537.36 (KHTML, like Gecko) Chrome/116.0.0.0 Safari/537.36'}\n",
    "    res = requests.get(url, headers=headers)\n",
    "    html = res.text\n",
    "    bs_obj = bs4.BeautifulSoup(html, 'html.parser')\n",
    "\n",
    "    # topic_list 추출\n",
    "    topic_list = bs_obj.findAll('div', {'class':'sh_text'})\n",
    "\n",
    "    # 제목과 링크 추출해서 리스트에 추가\n",
    "    topic_title = []\n",
    "    topic_link = []\n",
    "\n",
    "    for topic in topic_list:    \n",
    "        try :\n",
    "            a = topic.find('a')\n",
    "            topic_title.append(a.text)\n",
    "            topic_link.append(a['href'])\n",
    "        except:\n",
    "            print('오류 발생')\n",
    "            # pass\n",
    "\n",
    "    # 딕셔너리 만들어서 반환\n",
    "    return ({'topic':topic_title, 'url':topic_link, 'section':section})\n"
   ]
  },
  {
   "cell_type": "code",
   "execution_count": 25,
   "id": "ba2cbfe6-3618-4f7f-b0d6-9fc7455186a2",
   "metadata": {},
   "outputs": [
    {
     "data": {
      "text/plain": [
       "'https://news.naver.com/main/main.naver?mode=LSD&mid=shm&sid1=101'"
      ]
     },
     "execution_count": 25,
     "metadata": {},
     "output_type": "execute_result"
    }
   ],
   "source": [
    "section_menu_df['link'][2]"
   ]
  },
  {
   "cell_type": "code",
   "execution_count": 26,
   "id": "59ea02e8-ce9e-4bd1-b9de-026b70b786ca",
   "metadata": {},
   "outputs": [
    {
     "data": {
      "text/plain": [
       "{'topic': [\"'보험사기와 헤어질 결심'…금감원·경찰청·보험협회, 보험사기 근절 홍보캠페인\",\n",
       "  '현대차, 임단협 잠정합의…사상 첫 5년 연속 ‘무분규’',\n",
       "  '배출권 시장 활성화 대책 마련 나선 환경부..\"속도감이 중요\"',\n",
       "  \"롯데마트 서울역점, '제타플렉스'로 새단장…랜드마크 노린다\",\n",
       "  '문턱 높아진 주택담보대출…인터넷銀 금리, 시중銀보다 높아져',\n",
       "  '해수부, 대형마트·수협중앙회와 수산물 소비 활성화 업무협약',\n",
       "  \"환경부-수공, 국내 최초 수력 이용한 '그린수소 생산시설' 준공에 '맞손'\",\n",
       "  '기재차관 \"지역별 빈일자리 해소 방안, 지자체 협의 후 10월 중 발표\"',\n",
       "  \"꺾이지 않는 국제 유가…美 CPI·유럽금리·IEA 보고서 '주목'\",\n",
       "  '광주시, 층간소음 갈등 관리위원회 조정 의무화'],\n",
       " 'url': ['https://n.news.naver.com/mnews/article/079/0003811894?sid=101',\n",
       "  'https://n.news.naver.com/mnews/article/016/0002196729?sid=101',\n",
       "  'https://n.news.naver.com/mnews/article/018/0005573540?sid=101',\n",
       "  'https://n.news.naver.com/mnews/article/008/0004937645?sid=101',\n",
       "  'https://n.news.naver.com/mnews/article/015/0004890886?sid=101',\n",
       "  'https://n.news.naver.com/mnews/article/018/0005573736?sid=101',\n",
       "  'https://n.news.naver.com/mnews/article/016/0002197126?sid=101',\n",
       "  'https://n.news.naver.com/mnews/article/088/0000835581?sid=101',\n",
       "  'https://n.news.naver.com/mnews/article/586/0000064346?sid=101',\n",
       "  'https://n.news.naver.com/mnews/article/079/0003812194?sid=101'],\n",
       " 'section': '경제'}"
      ]
     },
     "execution_count": 26,
     "metadata": {},
     "output_type": "execute_result"
    }
   ],
   "source": [
    "# 함수 테스트 : 경제 섹션의 url과 섹션 전달하고 반환 결과 확인\n",
    "# url = section_menu_df['link'][2] # 경제 섹션의 링크 (세 번째)\n",
    "url = 'https://news.naver.com/main/main.naver?mode=LSD&mid=shm&sid1=101'\n",
    "test = get_topic(url,  '경제')\n",
    "test"
   ]
  },
  {
   "cell_type": "code",
   "execution_count": 27,
   "id": "e33a5908-5600-40f2-9d4e-0eca18e4ea99",
   "metadata": {},
   "outputs": [
    {
     "data": {
      "text/plain": [
       "dict"
      ]
     },
     "execution_count": 27,
     "metadata": {},
     "output_type": "execute_result"
    }
   ],
   "source": [
    "type(test)"
   ]
  },
  {
   "cell_type": "code",
   "execution_count": 28,
   "id": "b7970294-2ecb-4a20-973b-a660ceef0257",
   "metadata": {},
   "outputs": [
    {
     "data": {
      "text/plain": [
       "{'topic': [\"'회칼 협박' 람보르기니 男, 알고보니 운전면허도 없었다 [영상]\",\n",
       "  '가해 학부모 혼쭐내겠다고…엉뚱한 가게 별점·전화 테러',\n",
       "  '“우리 아이 손이, 친구 뺨에 맞았다”…대전교사 가해 학부모 입장문',\n",
       "  \"가천대, 교육혁신 전략부문 'S등급' 받아\",\n",
       "  '충남도립파크골프장 국비 확보 ‘날개’',\n",
       "  \"'청담동 주식부자' 형제 코인사기 혐의 구속영장\",\n",
       "  '창원서 외래 흰개미 출현에 정밀조사…“추가 개체 발견 못 해”',\n",
       "  '내년 공립 초등교사 3,157명 선발…올해보다 11% 감소',\n",
       "  '‘정서학대’ 의견 냈던 세이브더칠드런 “더욱 무거운 책임감·소명감 갖고 일할 것”',\n",
       "  '유병호 “배우자 주식 처분은 재산침해” 소송냈지만 패소'],\n",
       " 'url': ['https://n.news.naver.com/mnews/article/469/0000760277?sid=102',\n",
       "  'https://n.news.naver.com/mnews/article/055/0001089303?sid=102',\n",
       "  'https://n.news.naver.com/mnews/article/021/0002593703?sid=102',\n",
       "  'https://n.news.naver.com/mnews/article/277/0005313568?sid=102',\n",
       "  'https://n.news.naver.com/mnews/article/016/0002196949?sid=102',\n",
       "  'https://n.news.naver.com/mnews/article/001/0014189051?sid=102',\n",
       "  'https://n.news.naver.com/mnews/article/056/0011565177?sid=102',\n",
       "  'https://n.news.naver.com/mnews/article/056/0011565161?sid=102',\n",
       "  'https://n.news.naver.com/mnews/article/022/0003854902?sid=102',\n",
       "  'https://n.news.naver.com/mnews/article/020/0003520279?sid=102'],\n",
       " 'section': '사회'}"
      ]
     },
     "execution_count": 28,
     "metadata": {},
     "output_type": "execute_result"
    }
   ],
   "source": [
    "# section_menu_df의 컬럼 인덱스로 테스트 확인\n",
    "test = get_topic(section_menu_df['link'][3],  section_menu_df['section'][3])\n",
    "test"
   ]
  },
  {
   "cell_type": "code",
   "execution_count": 29,
   "id": "93cb580e-9540-483c-a216-6981cacb8678",
   "metadata": {},
   "outputs": [
    {
     "data": {
      "text/html": [
       "<div>\n",
       "<style scoped>\n",
       "    .dataframe tbody tr th:only-of-type {\n",
       "        vertical-align: middle;\n",
       "    }\n",
       "\n",
       "    .dataframe tbody tr th {\n",
       "        vertical-align: top;\n",
       "    }\n",
       "\n",
       "    .dataframe thead th {\n",
       "        text-align: right;\n",
       "    }\n",
       "</style>\n",
       "<table border=\"1\" class=\"dataframe\">\n",
       "  <thead>\n",
       "    <tr style=\"text-align: right;\">\n",
       "      <th></th>\n",
       "      <th>topic</th>\n",
       "      <th>url</th>\n",
       "      <th>section</th>\n",
       "    </tr>\n",
       "  </thead>\n",
       "  <tbody>\n",
       "  </tbody>\n",
       "</table>\n",
       "</div>"
      ],
      "text/plain": [
       "Empty DataFrame\n",
       "Columns: [topic, url, section]\n",
       "Index: []"
      ]
     },
     "execution_count": 29,
     "metadata": {},
     "output_type": "execute_result"
    }
   ],
   "source": [
    "# 추출하는 모든 섹션의 topic을 하나의 데이터프레임에 저장하기 위해 \n",
    "# 빈 데이터프레임 생성\n",
    "# 섹션별로 이 데이터프레임에 추가 (데이터프레임 결합(병합) : concat(df1, df2) 사용) (df1에 df2 추가)(병합)\n",
    "# - 행으로 계속 추가\n",
    "all_topic_df = pd.DataFrame({\n",
    "    'topic':[],\n",
    "    'url': [],\n",
    "    'section': []\n",
    "})\n",
    "all_topic_df"
   ]
  },
  {
   "cell_type": "code",
   "execution_count": 30,
   "id": "02f442f4-1bb8-4e61-9622-af4ebe277faf",
   "metadata": {},
   "outputs": [],
   "source": [
    "# 참고 : 딕셔너리로 데이터프레임 생성\n",
    "# topic_dic = {}\n",
    "# topic_dic['topic'] = []\n",
    "# topic_dic['url'] = []\n",
    "# topic_dic['section'] = []\n",
    "\n",
    "# topic_dic_df = pd.DataFrame(topic_dic)\n",
    "# topic_dic_df"
   ]
  },
  {
   "cell_type": "code",
   "execution_count": 31,
   "id": "b60e7aa0-a8ad-4bc8-82ac-4b46e830d9c3",
   "metadata": {},
   "outputs": [],
   "source": [
    "# 구조(포맷)가 동일한 섹션만 추출 : 정치, 경제, 사회, 생활/문화, IT/과학, 세계 : 6개 섹션\n",
    "# 섹션 수만큼 반복하면서 함수 호출\n",
    "# 반환된  결과를 데이터프레임에 계속 추가 (행으로 추가)\n",
    "for i in range(1, 7) :\n",
    "    df = pd.DataFrame(get_topic(section_menu_df['link'][i],  section_menu_df['section'][i]))\n",
    "    all_topic_df = pd.concat([all_topic_df, df], axis=0, ignore_index=True)\n",
    "    # axis=0 : 행으로 결합\n",
    "    # ignore_index=True : 기존 df의 인덱스 무시 (모든 행을 새로운 인덱스로 설정)"
   ]
  },
  {
   "cell_type": "code",
   "execution_count": 32,
   "id": "1ed4c325-8c09-4605-a214-524790d7d0fc",
   "metadata": {},
   "outputs": [],
   "source": [
    "# all_topic_df"
   ]
  },
  {
   "cell_type": "code",
   "execution_count": 33,
   "id": "c2533b1a-8aaa-4f55-900d-cf7d95fd4ec4",
   "metadata": {},
   "outputs": [],
   "source": [
    "all_topic_df.to_csv('./crawl_data/naver_news_all_topic.csv', index=0)"
   ]
  },
  {
   "cell_type": "code",
   "execution_count": 34,
   "id": "0e41e37e-13d9-4cf7-a1e4-f3504c1c5085",
   "metadata": {},
   "outputs": [],
   "source": [
    "all_topic_df = pd.read_csv('./crawl_data/naver_news_all_topic.csv')\n",
    "# all_topic_df"
   ]
  },
  {
   "cell_type": "markdown",
   "id": "47d62817-3064-4d1b-ac0f-a590389744b8",
   "metadata": {},
   "source": [
    "### (2) 각 기사 상세 내용 추출 : sub 페이지 내용 추출\n",
    "- 언론사, 기사제목, 작성 날짜 시간, 기사 내용, 작성자"
   ]
  },
  {
   "cell_type": "code",
   "execution_count": 35,
   "id": "3cbe4798-d688-4893-833c-6bb7f524395d",
   "metadata": {},
   "outputs": [],
   "source": [
    "# all_topic_df 사용\n",
    "all_topic_df = pd.read_csv('./crawl_data/naver_news_all_topic.csv')"
   ]
  },
  {
   "cell_type": "code",
   "execution_count": 36,
   "id": "96dfcf9f-5374-4424-b6e2-ad40e5498974",
   "metadata": {},
   "outputs": [],
   "source": [
    "# all_topic_df"
   ]
  },
  {
   "cell_type": "code",
   "execution_count": 37,
   "id": "13010644-8924-41d0-8d59-2379f717c1a1",
   "metadata": {},
   "outputs": [
    {
     "data": {
      "text/html": [
       "<div>\n",
       "<style scoped>\n",
       "    .dataframe tbody tr th:only-of-type {\n",
       "        vertical-align: middle;\n",
       "    }\n",
       "\n",
       "    .dataframe tbody tr th {\n",
       "        vertical-align: top;\n",
       "    }\n",
       "\n",
       "    .dataframe thead th {\n",
       "        text-align: right;\n",
       "    }\n",
       "</style>\n",
       "<table border=\"1\" class=\"dataframe\">\n",
       "  <thead>\n",
       "    <tr style=\"text-align: right;\">\n",
       "      <th></th>\n",
       "      <th>topic</th>\n",
       "      <th>url</th>\n",
       "      <th>section</th>\n",
       "    </tr>\n",
       "  </thead>\n",
       "  <tbody>\n",
       "    <tr>\n",
       "      <th>0</th>\n",
       "      <td>北, 김정은 러시아 도착 보도…金 “북러관계 전략적 중요”</td>\n",
       "      <td>https://n.news.naver.com/mnews/article/009/000...</td>\n",
       "      <td>정치</td>\n",
       "    </tr>\n",
       "    <tr>\n",
       "      <th>1</th>\n",
       "      <td>민주당, 결국 태영호 윤리위 제소…\"이재명 단식 중 행패 묵과 못 해\"</td>\n",
       "      <td>https://n.news.naver.com/mnews/article/119/000...</td>\n",
       "      <td>정치</td>\n",
       "    </tr>\n",
       "    <tr>\n",
       "      <th>2</th>\n",
       "      <td>與, 김어준-주진우-최경영 고발…“윤석열 명예 크게 훼손”</td>\n",
       "      <td>https://n.news.naver.com/mnews/article/016/000...</td>\n",
       "      <td>정치</td>\n",
       "    </tr>\n",
       "    <tr>\n",
       "      <th>3</th>\n",
       "      <td>한 총리, 프라하서 체코 총리와 회담…“에너지·인프라 협력 강화”</td>\n",
       "      <td>https://n.news.naver.com/mnews/article/056/001...</td>\n",
       "      <td>정치</td>\n",
       "    </tr>\n",
       "    <tr>\n",
       "      <th>4</th>\n",
       "      <td>26일 국군의날 행사…최신 국산무기 8종 27대 공개, 10년만 시가행진</td>\n",
       "      <td>https://n.news.naver.com/mnews/article/018/000...</td>\n",
       "      <td>정치</td>\n",
       "    </tr>\n",
       "  </tbody>\n",
       "</table>\n",
       "</div>"
      ],
      "text/plain": [
       "                                      topic  \\\n",
       "0          北, 김정은 러시아 도착 보도…金 “북러관계 전략적 중요”   \n",
       "1   민주당, 결국 태영호 윤리위 제소…\"이재명 단식 중 행패 묵과 못 해\"   \n",
       "2          與, 김어준-주진우-최경영 고발…“윤석열 명예 크게 훼손”   \n",
       "3      한 총리, 프라하서 체코 총리와 회담…“에너지·인프라 협력 강화”   \n",
       "4  26일 국군의날 행사…최신 국산무기 8종 27대 공개, 10년만 시가행진   \n",
       "\n",
       "                                                 url section  \n",
       "0  https://n.news.naver.com/mnews/article/009/000...      정치  \n",
       "1  https://n.news.naver.com/mnews/article/119/000...      정치  \n",
       "2  https://n.news.naver.com/mnews/article/016/000...      정치  \n",
       "3  https://n.news.naver.com/mnews/article/056/001...      정치  \n",
       "4  https://n.news.naver.com/mnews/article/018/000...      정치  "
      ]
     },
     "execution_count": 37,
     "metadata": {},
     "output_type": "execute_result"
    }
   ],
   "source": [
    "all_topic_df.head()"
   ]
  },
  {
   "cell_type": "code",
   "execution_count": 38,
   "id": "164a9d05-389e-47e9-800d-77af16387d00",
   "metadata": {},
   "outputs": [
    {
     "data": {
      "text/plain": [
       "'https://n.news.naver.com/mnews/article/056/0011565041?sid=100'"
      ]
     },
     "execution_count": 38,
     "metadata": {},
     "output_type": "execute_result"
    }
   ],
   "source": [
    "# 1개의 url만 선택해서 해당 페이지의 언론사, 기사제목, 작성 날짜 시간, 기사 내용, 작성자 추출 확인\n",
    "url = all_topic_df['url'][3] # 정치\n",
    "url"
   ]
  },
  {
   "cell_type": "code",
   "execution_count": 39,
   "id": "6dc62ccc-b363-4fde-b2b4-91860c6e73d9",
   "metadata": {},
   "outputs": [],
   "source": [
    "headers = {'User-Agent':'Mozilla/5.0 (Windows NT 10.0; Win64; x64) AppleWebKit/537.36 (KHTML, like Gecko) Chrome/116.0.0.0 Safari/537.36'}\n",
    "res = requests.get(url, headers=headers)\n",
    "html = res.text\n",
    "bs_obj = bs4.BeautifulSoup(html, 'html.parser')\n",
    "# bs_obj"
   ]
  },
  {
   "cell_type": "code",
   "execution_count": 40,
   "id": "2b3583d1-3ad4-4510-bd87-b0c323345934",
   "metadata": {},
   "outputs": [
    {
     "data": {
      "text/plain": [
       "'KBS'"
      ]
     },
     "execution_count": 40,
     "metadata": {},
     "output_type": "execute_result"
    }
   ],
   "source": [
    "# 언론사 : <a> : media_end_head_top_logo, 이미지의 title 속성값이 언론사명\n",
    "paper = bs_obj.find('a', {'class':'media_end_head_top_logo'}).select_one('img')['title']\n",
    "paper"
   ]
  },
  {
   "cell_type": "code",
   "execution_count": 41,
   "id": "f1d71c1d-b9f7-46a5-b67c-996bc0903ae2",
   "metadata": {},
   "outputs": [
    {
     "data": {
      "text/plain": [
       "'한 총리, 프라하서 체코 총리와 회담…“에너지·인프라 협력 강화”'"
      ]
     },
     "execution_count": 41,
     "metadata": {},
     "output_type": "execute_result"
    }
   ],
   "source": [
    "# 기사 제목\n",
    "title = bs_obj.find('div', {'class' : 'media_end_head_title'}).select_one('span').text\n",
    "title\n"
   ]
  },
  {
   "cell_type": "code",
   "execution_count": 42,
   "id": "9c8d68ab-9501-4d10-b0c3-df3590a895ff",
   "metadata": {},
   "outputs": [
    {
     "data": {
      "text/plain": [
       "'2023.09.13. 오전 9:25'"
      ]
     },
     "execution_count": 42,
     "metadata": {},
     "output_type": "execute_result"
    }
   ],
   "source": [
    "# 작성 일자 및 시간\n",
    "datetime = bs_obj.find('span', {'class' : 'media_end_head_info_datestamp_time _ARTICLE_DATE_TIME'}).text\n",
    "datetime"
   ]
  },
  {
   "cell_type": "code",
   "execution_count": 43,
   "id": "c9c3ccae-87e6-4f66-a4e2-f06332c102e3",
   "metadata": {},
   "outputs": [
    {
     "data": {
      "text/plain": [
       "'한덕수 국무총리가 현지시각 12일 체코 프라하에서 페트르 피알라 체코 총리와 회담하고, 에너지와 인프라 분야 협력을 강화하기로 했습니다. 한 총리는 회담에서 \"양국 관계가 2015년 전략적 동반자 관계로 격상된 이래 정치, 경제, 인적 교류 등 다양한 분야에서 협력을 확대하고 있다\"며, 원전·수소 등 에너지, 고속철도 등 인프라 분야, 방위산업 등에서의 협력을 강화하자고 밝혔습니다. 또한 양국 교역이 지난해 42억 달러(약 5조 6천억 원)로 3년 연속 최대치를 경신한 만큼 \"앞으로도 교역과 투자가 더욱 확대되도록 함께 노력해 나가자\"고 제안하고, 한국 기업의 원활한 활동을 지원해달라고 당부했습니다. 한국은 지난해 체코에 1억 6,100만 달러(약 2,130억 원)를 투자했으며, 현대차, 넥센타이어, 현대모비스, 두산중공업, 삼성전자 등이 현지에 진출해 있습니다. 피알라 총리는 \"그간 한국 기업의 양국 관계 발전에 대한 기여를 높이 평가한다\"며 \"더 많은 한국 기업의 투자를 기대한다\"고 답했다고, 총리실이 전했습니다. 또한 고속철도, 원전, 수소 등 미래 첨단산업 분야로 협력을 다변화하는 방안을 계속 모색하자고 제안했습니다. 총리실에 따르면 양측은 북한 도발에 국제사회의 단호한 대응이 필요하다고 공감하고, 북한 비핵화에 공조하기로 했습니다. 아울러 우크라이나 전쟁 종식과 평화 회복, 우크라이나 재건을 위한 국제사회의 연대 필요성에 공감했다고 총리실은 밝혔습니다.[사진 출처 : 연합뉴스 / 국무총리실 제공]■ 제보하기▷ 전화 : 02-781-1234, 4444▷ 이메일 : kbs1234@kbs.co.kr▷ 카카오톡 : \\'KBS제보\\' 검색, 채널 추가▷ 네이버, 유튜브에서 KBS뉴스를 구독해주세요!'"
      ]
     },
     "execution_count": 43,
     "metadata": {},
     "output_type": "execute_result"
    }
   ],
   "source": [
    "# 기사 내용\n",
    "# writing = bs_obj.select_one('#dic_area').text\n",
    "# writing = bs_obj.select_one('#dic_area').text.strip()\n",
    "writing = bs_obj.select_one('#dic_area').text.replace('\\n', '')\n",
    "writing\n"
   ]
  },
  {
   "cell_type": "code",
   "execution_count": 44,
   "id": "685a2e0a-ff98-4a4c-9b8d-8898a1a9b800",
   "metadata": {},
   "outputs": [
    {
     "data": {
      "text/plain": [
       "'신지혜 (new@kbs.co.kr)'"
      ]
     },
     "execution_count": 44,
     "metadata": {},
     "output_type": "execute_result"
    }
   ],
   "source": [
    "# 작성자\n",
    "writer = bs_obj.find('span',{'class':'byline_s'}).text\n",
    "writer\n"
   ]
  },
  {
   "cell_type": "code",
   "execution_count": 45,
   "id": "416e4f84-caf4-43cc-b5dc-1918b6c86be8",
   "metadata": {},
   "outputs": [],
   "source": [
    "#################################################################################"
   ]
  },
  {
   "cell_type": "markdown",
   "id": "5a243ae5-5cba-448c-a2bd-ad037945e20f",
   "metadata": {},
   "source": [
    "#### sub 페이지 내용 추출하는 함수 작성"
   ]
  },
  {
   "cell_type": "code",
   "execution_count": 46,
   "id": "a0bc4a34-5494-4b5a-b9e1-8e1d2dbaf793",
   "metadata": {},
   "outputs": [],
   "source": [
    "# sub 페이지 추출 함수\n",
    "def get_sub_news_info(url):\n",
    "    headers = {'User-Agent':'Mozilla/5.0 (Windows NT 10.0; Win64; x64) AppleWebKit/537.36 (KHTML, like Gecko) Chrome/116.0.0.0 Safari/537.36'}\n",
    "    # 빈 리스트 생성\n",
    "    paper_list, title_list, datetime_list, writing_list, writer_list = [ [] for _ in range(5) ]\n",
    "    # for _ in range(5) : 언더바(_) (변수 없이 반복만 수행)\n",
    "    \n",
    "    try :\n",
    "        \n",
    "        res = requests.get(url, headers=headers)\n",
    "        html = res.text\n",
    "        bs_obj = bs4.BeautifulSoup(html, 'html.parser')\n",
    "        # 접속    \n",
    "    \n",
    "        # 언론사, 기사제목, 작성 날짜 시간, 기사 내용, 작성자 리스트 생성\n",
    "        paper_list.append(bs_obj.find('a', {'class':'media_end_head_top_logo'}).select_one('img')['title'])\n",
    "        title_list.append(bs_obj.find('div', {'class' : 'media_end_head_title'}).select_one('span').text)\n",
    "        datetime_list.append(bs_obj.find('span', {'class' : 'media_end_head_info_datestamp_time _ARTICLE_DATE_TIME'}).text)\n",
    "        writing_list.append(bs_obj.select_one('#dic_area').text.replace('\\n', ''))\n",
    "        writer_list.append(bs_obj.find('span',{'class':'byline_s'}).text)\n",
    "\n",
    "    except:\n",
    "        print(\"오류 발생\")\n",
    "        # pass\n",
    "\n",
    "\n",
    "    # 딕셔너리로 만들어서 반환\n",
    "    sub_news_dict = {\n",
    "        'paper':paper_list,\n",
    "        'title':title_list,\n",
    "        'datetime':datetime_list,\n",
    "        'writing':writing_list,\n",
    "        'writer':writer_list\n",
    "    }\n",
    "\n",
    "    return sub_news_dict\n",
    "    "
   ]
  },
  {
   "cell_type": "code",
   "execution_count": 47,
   "id": "91f810f5-4908-4a20-8827-050168e57408",
   "metadata": {},
   "outputs": [
    {
     "data": {
      "text/plain": [
       "{'paper': ['KBS'],\n",
       " 'title': ['한 총리, 프라하서 체코 총리와 회담…“에너지·인프라 협력 강화”'],\n",
       " 'datetime': ['2023.09.13. 오전 9:25'],\n",
       " 'writing': ['한덕수 국무총리가 현지시각 12일 체코 프라하에서 페트르 피알라 체코 총리와 회담하고, 에너지와 인프라 분야 협력을 강화하기로 했습니다. 한 총리는 회담에서 \"양국 관계가 2015년 전략적 동반자 관계로 격상된 이래 정치, 경제, 인적 교류 등 다양한 분야에서 협력을 확대하고 있다\"며, 원전·수소 등 에너지, 고속철도 등 인프라 분야, 방위산업 등에서의 협력을 강화하자고 밝혔습니다. 또한 양국 교역이 지난해 42억 달러(약 5조 6천억 원)로 3년 연속 최대치를 경신한 만큼 \"앞으로도 교역과 투자가 더욱 확대되도록 함께 노력해 나가자\"고 제안하고, 한국 기업의 원활한 활동을 지원해달라고 당부했습니다. 한국은 지난해 체코에 1억 6,100만 달러(약 2,130억 원)를 투자했으며, 현대차, 넥센타이어, 현대모비스, 두산중공업, 삼성전자 등이 현지에 진출해 있습니다. 피알라 총리는 \"그간 한국 기업의 양국 관계 발전에 대한 기여를 높이 평가한다\"며 \"더 많은 한국 기업의 투자를 기대한다\"고 답했다고, 총리실이 전했습니다. 또한 고속철도, 원전, 수소 등 미래 첨단산업 분야로 협력을 다변화하는 방안을 계속 모색하자고 제안했습니다. 총리실에 따르면 양측은 북한 도발에 국제사회의 단호한 대응이 필요하다고 공감하고, 북한 비핵화에 공조하기로 했습니다. 아울러 우크라이나 전쟁 종식과 평화 회복, 우크라이나 재건을 위한 국제사회의 연대 필요성에 공감했다고 총리실은 밝혔습니다.[사진 출처 : 연합뉴스 / 국무총리실 제공]■ 제보하기▷ 전화 : 02-781-1234, 4444▷ 이메일 : kbs1234@kbs.co.kr▷ 카카오톡 : \\'KBS제보\\' 검색, 채널 추가▷ 네이버, 유튜브에서 KBS뉴스를 구독해주세요!'],\n",
       " 'writer': ['신지혜 (new@kbs.co.kr)']}"
      ]
     },
     "execution_count": 47,
     "metadata": {},
     "output_type": "execute_result"
    }
   ],
   "source": [
    "# 함수 테스트 : 1개의 url 전달해서 반환 결과 확인\n",
    "get_sub_news_info(all_topic_df.url[3])"
   ]
  },
  {
   "cell_type": "markdown",
   "id": "b0c27c8e-b7af-466b-b76d-61b0cb7a1362",
   "metadata": {},
   "source": [
    "#### 함수에서 반환된 값으로 데이터프레임에 더해서 최종 데이터프레임 생성"
   ]
  },
  {
   "cell_type": "code",
   "execution_count": 48,
   "id": "670b78da-5240-4f56-92fd-692bc42937bc",
   "metadata": {},
   "outputs": [
    {
     "data": {
      "text/html": [
       "<div>\n",
       "<style scoped>\n",
       "    .dataframe tbody tr th:only-of-type {\n",
       "        vertical-align: middle;\n",
       "    }\n",
       "\n",
       "    .dataframe tbody tr th {\n",
       "        vertical-align: top;\n",
       "    }\n",
       "\n",
       "    .dataframe thead th {\n",
       "        text-align: right;\n",
       "    }\n",
       "</style>\n",
       "<table border=\"1\" class=\"dataframe\">\n",
       "  <thead>\n",
       "    <tr style=\"text-align: right;\">\n",
       "      <th></th>\n",
       "      <th>paper</th>\n",
       "      <th>title</th>\n",
       "      <th>datetime</th>\n",
       "      <th>writing</th>\n",
       "      <th>writer</th>\n",
       "    </tr>\n",
       "  </thead>\n",
       "  <tbody>\n",
       "  </tbody>\n",
       "</table>\n",
       "</div>"
      ],
      "text/plain": [
       "Empty DataFrame\n",
       "Columns: [paper, title, datetime, writing, writer]\n",
       "Index: []"
      ]
     },
     "execution_count": 48,
     "metadata": {},
     "output_type": "execute_result"
    }
   ],
   "source": [
    "# 빈 데이터프레임 생성\n",
    "all_sub_news_info_df = pd.DataFrame({\n",
    "    'paper': [],\n",
    "    'title': [],\n",
    "    'datetime': [],\n",
    "    'writing': [],\n",
    "    'writer': []\n",
    "})\n",
    "\n",
    "all_sub_news_info_df"
   ]
  },
  {
   "cell_type": "code",
   "execution_count": 49,
   "id": "593579d1-ceb7-4178-b52a-43b2e344f4f6",
   "metadata": {},
   "outputs": [],
   "source": [
    "# all_topic_df에 있는 모든 서브 페이지 url 전달하고 결과 받아서 최종 데이터프레임으로 저장\n",
    "for url in all_topic_df['url']:\n",
    "    df = pd.DataFrame(get_sub_news_info(url))\n",
    "    all_sub_news_info_df = pd.concat([all_sub_news_info_df, df], axis=0, ignore_index=True)"
   ]
  },
  {
   "cell_type": "code",
   "execution_count": 50,
   "id": "ffc23951-eac9-4236-8ad8-f0a51d69cfe2",
   "metadata": {},
   "outputs": [
    {
     "data": {
      "text/html": [
       "<div>\n",
       "<style scoped>\n",
       "    .dataframe tbody tr th:only-of-type {\n",
       "        vertical-align: middle;\n",
       "    }\n",
       "\n",
       "    .dataframe tbody tr th {\n",
       "        vertical-align: top;\n",
       "    }\n",
       "\n",
       "    .dataframe thead th {\n",
       "        text-align: right;\n",
       "    }\n",
       "</style>\n",
       "<table border=\"1\" class=\"dataframe\">\n",
       "  <thead>\n",
       "    <tr style=\"text-align: right;\">\n",
       "      <th></th>\n",
       "      <th>paper</th>\n",
       "      <th>title</th>\n",
       "      <th>datetime</th>\n",
       "      <th>writing</th>\n",
       "      <th>writer</th>\n",
       "    </tr>\n",
       "  </thead>\n",
       "  <tbody>\n",
       "    <tr>\n",
       "      <th>0</th>\n",
       "      <td>매일경제</td>\n",
       "      <td>北, 김정은 러시아 도착 보도…金 “북러관계 전략적 중요”</td>\n",
       "      <td>2023.09.13. 오전 11:22</td>\n",
       "      <td>[레이더P]평양서 하산까지 최소 36시간 소요강순남 국방상 수행단 포함 확인 김정은...</td>\n",
       "      <td>김성훈 기자(kokkiri@mk.co.kr)</td>\n",
       "    </tr>\n",
       "    <tr>\n",
       "      <th>1</th>\n",
       "      <td>데일리안</td>\n",
       "      <td>민주당, 결국 태영호 윤리위 제소…\"이재명 단식 중 행패 묵과 못 해\"</td>\n",
       "      <td>2023.09.13. 오전 11:30</td>\n",
       "      <td>징계안 제출…與의 박영순 징계 추진 맞불 차원이기도태영호 국민의힘 의원이 7일 국회...</td>\n",
       "      <td>고수정 기자 (ko0726@dailian.co.kr)</td>\n",
       "    </tr>\n",
       "    <tr>\n",
       "      <th>2</th>\n",
       "      <td>헤럴드경제</td>\n",
       "      <td>與, 김어준-주진우-최경영 고발…“윤석열 명예 크게 훼손”</td>\n",
       "      <td>2023.09.13. 오전 11:14</td>\n",
       "      <td>“허위 인터뷰를 사실인 것처럼 그대로 방송해 명예훼손”“김어준, ‘대장동 인식을 바...</td>\n",
       "      <td>신현주 newkr@heraldcorp.com</td>\n",
       "    </tr>\n",
       "    <tr>\n",
       "      <th>3</th>\n",
       "      <td>KBS</td>\n",
       "      <td>한 총리, 프라하서 체코 총리와 회담…“에너지·인프라 협력 강화”</td>\n",
       "      <td>2023.09.13. 오전 9:25</td>\n",
       "      <td>한덕수 국무총리가 현지시각 12일 체코 프라하에서 페트르 피알라 체코 총리와 회담하...</td>\n",
       "      <td>신지혜 (new@kbs.co.kr)</td>\n",
       "    </tr>\n",
       "    <tr>\n",
       "      <th>4</th>\n",
       "      <td>이데일리</td>\n",
       "      <td>26일 국군의날 행사…최신 국산무기 8종 27대 공개, 10년만 시가행진</td>\n",
       "      <td>2023.09.13. 오후 12:04</td>\n",
       "      <td>국방부 \"75주년 국군의 날, 강한 국군 선보일 것\"한미동맹 70주년 계기, 주한미...</td>\n",
       "      <td>김관용(kky1441@edaily.co.kr)</td>\n",
       "    </tr>\n",
       "    <tr>\n",
       "      <th>5</th>\n",
       "      <td>중앙일보</td>\n",
       "      <td>국민의힘, 교원단체 만나 “교권 보호 4법 조속한 통과 노력”</td>\n",
       "      <td>2023.09.13. 오후 12:07</td>\n",
       "      <td>\\t\\t\\t  국민의힘이 교사의 정당한 교육 활동을 보호하기 위한 ‘교권 4법’의 ...</td>\n",
       "      <td>임성빈 기자 im.soungbin@joongang.co.kr</td>\n",
       "    </tr>\n",
       "    <tr>\n",
       "      <th>6</th>\n",
       "      <td>SBS</td>\n",
       "      <td>중대범죄자 '머그샷' 동의 없이도 공개</td>\n",
       "      <td>2023.09.13. 오전 3:51</td>\n",
       "      <td>\\t\\t\\t&lt;앵커&gt;중대 범죄 피의자의 경우 앞으로는 본인 동의가 없어도 검거 이후 ...</td>\n",
       "      <td>한소희 기자 han@sbs.co.kr</td>\n",
       "    </tr>\n",
       "    <tr>\n",
       "      <th>7</th>\n",
       "      <td>국민일보</td>\n",
       "      <td>러, 대북제재 거부 시사에… “엄포일 것” “사실일 것” 엇갈려</td>\n",
       "      <td>2023.09.13. 오전 4:08</td>\n",
       "      <td>전문가들 “막 나가기는 힘들 듯”정부 “무기 거래·기술 이전” 촉각북·중·러 국경이...</td>\n",
       "      <td>권중혁 기자(green@kmib.co.kr)</td>\n",
       "    </tr>\n",
       "    <tr>\n",
       "      <th>8</th>\n",
       "      <td>중앙일보</td>\n",
       "      <td>‘아동학대 신고 때 교사 자동 직위해제’ 조항 고친다</td>\n",
       "      <td>2023.09.13. 오전 12:01</td>\n",
       "      <td>박대출 국민의힘 정책위의장(왼쪽 셋째)이 12일 오전 국회에서 열린 ‘교원 대상...</td>\n",
       "      <td>김효성 기자 kim.hyoseong@joongang.co.kr</td>\n",
       "    </tr>\n",
       "    <tr>\n",
       "      <th>9</th>\n",
       "      <td>YTN</td>\n",
       "      <td>與, \"단식 중 이재명 소환? 출석 요구하자 단식\" 비판</td>\n",
       "      <td>2023.09.12. 오후 11:07</td>\n",
       "      <td>\\t\\t\\t국민의힘은 쌍방울 대북송금 의혹을 수사하는 검찰이 이 대표를 단식 중에 ...</td>\n",
       "      <td>안윤학(yhahn@ytn.co.kr)</td>\n",
       "    </tr>\n",
       "    <tr>\n",
       "      <th>10</th>\n",
       "      <td>노컷뉴스</td>\n",
       "      <td>\"수소산업 미래를 그리다\"…역대급 규모 'H2 MEET' 개막</td>\n",
       "      <td>2023.09.13. 오전 5:12</td>\n",
       "      <td>韓 수소산업 전시회 'H2 MEET' 열려303개 기업·기관 참가…전년比 26%↑연...</td>\n",
       "      <td>CBS노컷뉴스 윤준호 기자 yjh@cbs.co.kr</td>\n",
       "    </tr>\n",
       "    <tr>\n",
       "      <th>11</th>\n",
       "      <td>kbc광주방송</td>\n",
       "      <td>\"그냥 쉴게요\"..추석 연휴 늘었지만 여행보단 '집콕'</td>\n",
       "      <td>2023.09.13. 오전 9:48</td>\n",
       "      <td>▲추석연휴 계획 설문조사 인포그래픽 사진: 연합뉴스 이번 추석 연휴에는 여행보다 고...</td>\n",
       "      <td>고우리(wego@ikbc.co.kr)</td>\n",
       "    </tr>\n",
       "    <tr>\n",
       "      <th>12</th>\n",
       "      <td>연합뉴스</td>\n",
       "      <td>국회, 오늘 방문규 산업장관 후보자 인사청문회</td>\n",
       "      <td>2023.09.13. 오전 5:00</td>\n",
       "      <td>에너지 정책·수출 부진 등 산업이슈 주요 쟁점 전망출근하는 방문규 산업부 장관 후보...</td>\n",
       "      <td>한주홍(juhong@yna.co.kr)</td>\n",
       "    </tr>\n",
       "    <tr>\n",
       "      <th>13</th>\n",
       "      <td>아시아경제</td>\n",
       "      <td>\"강북 랜드마크로\" 롯데마트, 제타플렉스 2호점 문연다</td>\n",
       "      <td>2023.09.13. 오전 6:00</td>\n",
       "      <td>롯데마트 플래그십 스토어 '제타플렉스 서울역점' 오픈매장 2층 85%까지 그로서리 ...</td>\n",
       "      <td>김유리 기자 yr61@asiae.co.kr</td>\n",
       "    </tr>\n",
       "    <tr>\n",
       "      <th>14</th>\n",
       "      <td>문화일보</td>\n",
       "      <td>삼성 ‘라이프사이언스펀드’ 4호 투자는 에임드바이오</td>\n",
       "      <td>2023.09.13. 오전 11:58</td>\n",
       "      <td>ADC 기술 보유한 국내 기업공동연구로 K-바이오 활성화삼성이 미래 유망 기술로 꼽...</td>\n",
       "      <td>박지웅 기자(topspin@munhwa.com)</td>\n",
       "    </tr>\n",
       "    <tr>\n",
       "      <th>15</th>\n",
       "      <td>매일경제</td>\n",
       "      <td>“원유 재고 줄어든다” 이 보고서에 유가 급등, 100달러 임박?</td>\n",
       "      <td>2023.09.13. 오전 9:32</td>\n",
       "      <td>미 EIA보고서 “공급 차질 우려”유가 10개월만에 최고치 급등브렌트유 1.6% 상...</td>\n",
       "      <td>황인혁 기자(ihhwang@mk.co.kr)</td>\n",
       "    </tr>\n",
       "    <tr>\n",
       "      <th>16</th>\n",
       "      <td>노컷뉴스</td>\n",
       "      <td>경북도·의회·교육청 \"우리 수산물 안심하고 드세요\"</td>\n",
       "      <td>2023.09.12. 오후 3:26</td>\n",
       "      <td>경북도의회, 수산물 안전성 검사 결과 신속 제공 조례안 의결경북도, 21일~27일 ...</td>\n",
       "      <td>포항CBS 박정노 기자 jnpark@cbs.co.kr</td>\n",
       "    </tr>\n",
       "    <tr>\n",
       "      <th>17</th>\n",
       "      <td>KBS</td>\n",
       "      <td>국제유가·환율 상승 영향…8월 수출입물가 동반 상승</td>\n",
       "      <td>2023.09.13. 오전 7:46</td>\n",
       "      <td>국제 유가가 오름세를 보이고 있는 가운데 지난달 수출입 물가가 모두 큰 폭으로 올랐...</td>\n",
       "      <td>손서영 (bellesy@kbs.co.kr)</td>\n",
       "    </tr>\n",
       "    <tr>\n",
       "      <th>18</th>\n",
       "      <td>한국경제</td>\n",
       "      <td>\"치아보험 사기 연루 땐 형사처벌 받아요\"</td>\n",
       "      <td>2023.09.12. 오후 4:22</td>\n",
       "      <td>금감원, 소비자경보 발령“치아 보험 가입 후 간단한 치료만 받아도 큰돈을 받을 수 ...</td>\n",
       "      <td>최한종 기자 onebell@hankyung.com</td>\n",
       "    </tr>\n",
       "    <tr>\n",
       "      <th>19</th>\n",
       "      <td>머니투데이</td>\n",
       "      <td>친환경 규제 강화에 웃던 탄소배출권 ETF, 수익률 마이너스…왜?</td>\n",
       "      <td>2023.09.12. 오후 4:23</td>\n",
       "      <td>유럽 이상기온으로 탄소 배출량 감소…중장기적 투자 매력 여전탄소배출권 ETF 6개월...</td>\n",
       "      <td>김근희 기자 (keun7@mt.co.kr)</td>\n",
       "    </tr>\n",
       "    <tr>\n",
       "      <th>20</th>\n",
       "      <td>서울신문</td>\n",
       "      <td>선문대, ‘대학혁신’ 최고 등급</td>\n",
       "      <td>2023.09.12. 오후 3:39</td>\n",
       "      <td>학생 맞춤형 혁신성과 분야, ‘S등급’ 획득다전공·전공 탐색 교과 등 운영선문대 전...</td>\n",
       "      <td>아산 이종익 기자</td>\n",
       "    </tr>\n",
       "    <tr>\n",
       "      <th>21</th>\n",
       "      <td>MBN</td>\n",
       "      <td>\"학부모가 똥 묻은 기저귀로 폭행\"…어린이집 교사 남편의 청원 글</td>\n",
       "      <td>2023.09.13. 오후 12:38</td>\n",
       "      <td>사진=국회 국민동의청원 게시판 캡처세종시 한 어린이집 교사가 학부모로부터 인분이 묻...</td>\n",
       "      <td>김지영 디지털뉴스 기자 jzero@mbn.co.kr</td>\n",
       "    </tr>\n",
       "    <tr>\n",
       "      <th>22</th>\n",
       "      <td>문화일보</td>\n",
       "      <td>12년 라디오 진행 프리랜서 아나운서 퇴직금 청구소송 패소…대법 “근로자 아냐”</td>\n",
       "      <td>2023.09.13. 오전 6:28</td>\n",
       "      <td>대법원 전경. 연합뉴스  자유롭게 출퇴근하고 겸직이 허용됐던 프리랜서 아나운서가 방...</td>\n",
       "      <td>곽선미 기자(gsm@munhwa.com)</td>\n",
       "    </tr>\n",
       "    <tr>\n",
       "      <th>23</th>\n",
       "      <td>연합뉴스</td>\n",
       "      <td>내년 서울 공립 초등교사 110명·유치원교사 '0명' 선발</td>\n",
       "      <td>2023.09.13. 오전 10:00</td>\n",
       "      <td>올해보다 8명 감소[서울시교육청 제공]    (서울=연합뉴스) 서혜림 기자 = 서울...</td>\n",
       "      <td>서혜림(sf@yna.co.kr)</td>\n",
       "    </tr>\n",
       "    <tr>\n",
       "      <th>24</th>\n",
       "      <td>JTBC</td>\n",
       "      <td>성범죄 신상등록대상자 10만명 넘어...168명은 소재불명</td>\n",
       "      <td>2023.09.13. 오전 9:06</td>\n",
       "      <td>기사와 관련 없는 자료사진.〈자료사진=JTBC 방송화면 캡처〉    경찰에 신...</td>\n",
       "      <td>장영준 기자 (jang.youngjoon@jtbc.co.kr)</td>\n",
       "    </tr>\n",
       "    <tr>\n",
       "      <th>25</th>\n",
       "      <td>서울신문</td>\n",
       "      <td>“사람으로서 선 지켜라”…허지웅, 대전 가해 학부모에 일침</td>\n",
       "      <td>2023.09.12. 오후 5:57</td>\n",
       "      <td>작가 겸 방송인 허지웅. 서울신문DB악성 민원에 시달리다 극단적 선택을 한 대전 초...</td>\n",
       "      <td>최재헌 기자</td>\n",
       "    </tr>\n",
       "    <tr>\n",
       "      <th>26</th>\n",
       "      <td>머니투데이</td>\n",
       "      <td>삭발에 단식까지…전북도의회, '새만금 예산 삭감' 반발</td>\n",
       "      <td>2023.09.13. 오후 12:14</td>\n",
       "      <td>[지방의회NOW]정부, \"새만금 입주기업에 필요한 사업은 그대로 지원\"▲한병도 더불...</td>\n",
       "      <td>홍세미 기자 (semi4094@mt.co.kr)</td>\n",
       "    </tr>\n",
       "    <tr>\n",
       "      <th>27</th>\n",
       "      <td>강원일보</td>\n",
       "      <td>조민, 유튜브 실버버튼 공개…\"할머니한테 선물로 드리려고 홍삼광고 수락\"</td>\n",
       "      <td>2023.09.13. 오전 10:27</td>\n",
       "      <td>◇조민 씨 유튜브 채널 '쪼민'에 게재된 영상 갈무리.조국 전 장관의 딸 조민 씨가...</td>\n",
       "      <td>조성호기자 csh@kwnews.co.kr</td>\n",
       "    </tr>\n",
       "    <tr>\n",
       "      <th>28</th>\n",
       "      <td>조선일보</td>\n",
       "      <td>서울 지하철 노선도 40년만에 바뀐다... 2호선은 동그라미</td>\n",
       "      <td>2023.09.13. 오전 11:46</td>\n",
       "      <td>13일 서울시가 발표한 새로운 지하철 노선도 디자인. 순환선인 2호선을 동그라미로 ...</td>\n",
       "      <td>김휘원 기자 hwkim@chosun.com</td>\n",
       "    </tr>\n",
       "    <tr>\n",
       "      <th>29</th>\n",
       "      <td>매일경제</td>\n",
       "      <td>서울시, 9월 재산세 4조806억 부과…강남·서초·송파 1~3위</td>\n",
       "      <td>2023.09.13. 오전 10:53</td>\n",
       "      <td>개별공시지가 내려 전년보다 9.8% 감소강남구 9087억 최다…도봉구는 396억 서...</td>\n",
       "      <td>권오균 기자(592kwon@mk.co.kr)</td>\n",
       "    </tr>\n",
       "    <tr>\n",
       "      <th>30</th>\n",
       "      <td>매일경제</td>\n",
       "      <td>‘누가 이 사람을 모르시나요’ 부른 가수 곽순옥 별세</td>\n",
       "      <td>2023.09.13. 오전 10:47</td>\n",
       "      <td>\\t\\t\\t1960년대에 노래 ‘누가 이 사람을 모르시나요’를 부른 원로 가수 곽순...</td>\n",
       "      <td>정주원 기자(jnwn@mk.co.kr)</td>\n",
       "    </tr>\n",
       "    <tr>\n",
       "      <th>31</th>\n",
       "      <td>노컷뉴스</td>\n",
       "      <td>BTS 알엠 기부금으로 복원된 '활옷'…15일부터 전시</td>\n",
       "      <td>2023.09.13. 오전 9:02</td>\n",
       "      <td>핵심요약'활옷 만개(滿開)-조선왕실 여성 혼례복' 특별전국내외 소장 '활옷' 9점 ...</td>\n",
       "      <td>CBS노컷뉴스 구병수 기자 leesak0322@cbs.co.kr</td>\n",
       "    </tr>\n",
       "    <tr>\n",
       "      <th>32</th>\n",
       "      <td>연합뉴스</td>\n",
       "      <td>내년 문화예술 예산 2조원대…파리올림픽 계기 K-컬처 집중 홍보</td>\n",
       "      <td>2023.09.13. 오전 8:00</td>\n",
       "      <td>'대한민국 문화도시' 13곳 선정…건물 추가 개방 등 청와대에 330억원 통합문화이...</td>\n",
       "      <td>이은정(mimi@yna.co.kr)</td>\n",
       "    </tr>\n",
       "    <tr>\n",
       "      <th>33</th>\n",
       "      <td>SBS</td>\n",
       "      <td>전국에 가을비…주말까지 비 이어져</td>\n",
       "      <td>2023.09.13. 오전 8:48</td>\n",
       "      <td>오늘(13일) 전국 곳곳에 가을비가 내리겠습니다.오전 8시 현재 중부지방, 전북과 ...</td>\n",
       "      <td>유영규 기자 sbsnewmedia@sbs.co.kr</td>\n",
       "    </tr>\n",
       "    <tr>\n",
       "      <th>34</th>\n",
       "      <td>TV조선</td>\n",
       "      <td>[날씨] 전국 대부분 빗방울…강원 영동 100㎜ 이상 강한 비</td>\n",
       "      <td>2023.09.13. 오전 8:35</td>\n",
       "      <td>오늘 나오실 때는 우산 챙겨주셔야겠습니다. 전국 대부분 지역에 비가 내릴 텐데요. ...</td>\n",
       "      <td>정희지 기상캐스터</td>\n",
       "    </tr>\n",
       "    <tr>\n",
       "      <th>35</th>\n",
       "      <td>헤럴드경제</td>\n",
       "      <td>현대모비스 뇌파 분석 ‘엠브레인’, 안전기술대상 대통령상 수상</td>\n",
       "      <td>2023.09.13. 오후 12:02</td>\n",
       "      <td>세계 최초 뇌파 기반 운전자 모니터링피곤, 졸음 등 건강 상태 실시간 체크경기도 공...</td>\n",
       "      <td>서재근 likehyo85@heraldcorp.com</td>\n",
       "    </tr>\n",
       "    <tr>\n",
       "      <th>36</th>\n",
       "      <td>한겨레</td>\n",
       "      <td>[단독] ‘성추문’ 고은 시집 판매 재개…출간 뒤 130여권 팔려</td>\n",
       "      <td>2023.09.13. 오전 5:03</td>\n",
       "      <td>출간 논란 뒤 공급 중단했던 실천문학“‘출판 자유’ 투쟁”…최근 시집 재공급고은 구...</td>\n",
       "      <td>임인택 기자 imit@hani.co.kr</td>\n",
       "    </tr>\n",
       "    <tr>\n",
       "      <th>37</th>\n",
       "      <td>세계일보</td>\n",
       "      <td>“라흐마니노프가 살아있다면 푸틴과 전쟁을 반대했을 것”…여성 지휘자로 새 역사 쓰는...</td>\n",
       "      <td>2023.09.13. 오전 10:40</td>\n",
       "      <td>이탈리아 볼로냐 시립극장 첫 여성 음악감독, 바이로이트 축제 첫 여성 지휘자고국 우...</td>\n",
       "      <td>이강은 선임기자 kelee@segye.com</td>\n",
       "    </tr>\n",
       "    <tr>\n",
       "      <th>38</th>\n",
       "      <td>파이낸셜뉴스</td>\n",
       "      <td>130g의 로봇 손이 100㎏을 들어 올린다</td>\n",
       "      <td>2023.09.13. 오후 12:01</td>\n",
       "      <td>KIST-KAIST 공동연구진, 소프트 로봇손 개발플라스틱 띠를 직조 구조로 단순하...</td>\n",
       "      <td>김만기 기자 (monarch@fnnews.com)</td>\n",
       "    </tr>\n",
       "    <tr>\n",
       "      <th>39</th>\n",
       "      <td>파이낸셜뉴스</td>\n",
       "      <td>경찰청, 국제사이버범죄대응 심포지엄 개최</td>\n",
       "      <td>2023.09.13. 오후 12:01</td>\n",
       "      <td>[파이낸셜뉴스]경찰청은 13일에서 15일까지 JW메리어트 호텔 서울에서 '국제사이...</td>\n",
       "      <td>이진혁 기자 (beruf@fnnews.com)</td>\n",
       "    </tr>\n",
       "    <tr>\n",
       "      <th>40</th>\n",
       "      <td>서울경제</td>\n",
       "      <td>성능은 높여도 5년째 아이폰 프로 가격 999달러…‘애플 혁신은 가격’ 공식 통할까</td>\n",
       "      <td>2023.09.13. 오전 8:55</td>\n",
       "      <td>애플 아이폰15 시리즈 출시하며 가격 동결프로, 프로 맥스 모델 차별화 뚜렷티타늄 ...</td>\n",
       "      <td>실리콘밸리=정혜진 특파원(madein@sedaily.com)</td>\n",
       "    </tr>\n",
       "    <tr>\n",
       "      <th>41</th>\n",
       "      <td>서울경제</td>\n",
       "      <td>전화번호로 카톡 친구추가 거부 가능해진다</td>\n",
       "      <td>2023.09.13. 오전 11:23</td>\n",
       "      <td>‘카톡이지’ 프로젝트 일환‘전화번호로 친구 추가 허용’ 옵션 도입카톡내 저장 여유공...</td>\n",
       "      <td>김성태 기자(kim@sedaily.com)</td>\n",
       "    </tr>\n",
       "    <tr>\n",
       "      <th>42</th>\n",
       "      <td>헤럴드경제</td>\n",
       "      <td>429만원 삼성 ‘명품폰’ 출시하자마자 ‘대박’…11만명 몰렸다</td>\n",
       "      <td>2023.09.13. 오전 10:28</td>\n",
       "      <td>명품 브랜드 톰브라운과 협업한 제품추첨 판매에 7시간 동안 11만명 응모‘갤럭시 Z...</td>\n",
       "      <td>이영기 20ki@heraldcorp.com</td>\n",
       "    </tr>\n",
       "    <tr>\n",
       "      <th>43</th>\n",
       "      <td>전자신문</td>\n",
       "      <td>사이버보안 국제표준회의 ITU-T SG17 성료…“국제표준 9건 승인 성과”</td>\n",
       "      <td>2023.09.13. 오후 12:48</td>\n",
       "      <td>\\t\\t\\t한국에서 열린 국제연합(UN) 산하 국제전기통신연합 전기통신표준화 부문(...</td>\n",
       "      <td>조재학 2jh@etnews.com</td>\n",
       "    </tr>\n",
       "    <tr>\n",
       "      <th>44</th>\n",
       "      <td>지디넷코리아</td>\n",
       "      <td>의리 지킨 손흥민…'아이폰 안돼요' 셀카 거절 화제</td>\n",
       "      <td>2023.09.12. 오후 3:47</td>\n",
       "      <td>갤럭시 앰배서더 발탁 후 삼성전자 경쟁 제품 들 수 없어잉글랜드 프로축구 프리미어리...</td>\n",
       "      <td>류은주 기자(riswell@zdnet.co.kr)</td>\n",
       "    </tr>\n",
       "    <tr>\n",
       "      <th>45</th>\n",
       "      <td>디지털타임스</td>\n",
       "      <td>ETRI-加 양자컴퓨팅 기업 손잡고 원천기술 확보 나선다</td>\n",
       "      <td>2023.09.13. 오전 11:36</td>\n",
       "      <td>캐나다 자나두와 양자컴퓨팅 공동연구 추진한국전자통신연구원(ETRI)은 캐나다의 광기...</td>\n",
       "      <td>이준기 기자(bongchu@dt.co.kr)</td>\n",
       "    </tr>\n",
       "    <tr>\n",
       "      <th>46</th>\n",
       "      <td>조선일보</td>\n",
       "      <td>머스크 성격 미친듯이 조급...트위터 서버 직접 나르기도</td>\n",
       "      <td>2023.09.13. 오전 10:19</td>\n",
       "      <td>일론 머스크 전기 표지 사진/사이먼 &amp; 슈스터\\t\\t\\t\\t\\t\\t\\t\\t\\t\\t일...</td>\n",
       "      <td>이해인 기자 hilee@chosun.com</td>\n",
       "    </tr>\n",
       "    <tr>\n",
       "      <th>47</th>\n",
       "      <td>연합뉴스</td>\n",
       "      <td>日 개각서 주요인사 유임 전망…\"오부치 前총리 딸, 선대위원장\"(종합2보)</td>\n",
       "      <td>2023.09.12. 오후 6:55</td>\n",
       "      <td>\"아소·모테기, 자민당 요직 유지…관방장관·재무상 변동 없을 듯\"외무상·방위상 및 ...</td>\n",
       "      <td>박성진(sungjinpark@yna.co.kr)</td>\n",
       "    </tr>\n",
       "    <tr>\n",
       "      <th>48</th>\n",
       "      <td>연합뉴스TV</td>\n",
       "      <td>리비아 대홍수로 2천 명 넘게 숨져…\"1만 명 실종\"</td>\n",
       "      <td>2023.09.13. 오전 5:47</td>\n",
       "      <td>\\t\\t\\t모로코에서 강진으로 수천 명의 사상자가 나온 가운데 이번엔 리비아에서 대...</td>\n",
       "      <td>박상률(srpark@yna.co.kr)</td>\n",
       "    </tr>\n",
       "    <tr>\n",
       "      <th>49</th>\n",
       "      <td>중앙일보</td>\n",
       "      <td>\"북러회담에 中도 긴장…4년 전은 외교 쇼, 이번엔 다르다\"</td>\n",
       "      <td>2023.09.12. 오전 11:13</td>\n",
       "      <td>\\t\\t\\t  김정은 북한 국무위원장이 블라디미르 푸틴 러시아 대통령과 회담하기 위...</td>\n",
       "      <td>김상진 기자 kine3@joongang.co.kr</td>\n",
       "    </tr>\n",
       "    <tr>\n",
       "      <th>50</th>\n",
       "      <td>이데일리</td>\n",
       "      <td>아이폰 발표날…화웨이, 메이트60 출하량 목표 상향 '자신감'</td>\n",
       "      <td>2023.09.13. 오전 10:05</td>\n",
       "      <td>하반기 메이트 60 시리즈 출하 목표 20%↑IT업계 \"총 2000만대 수준 재고 ...</td>\n",
       "      <td>김겨레(re9709@edaily.co.kr)</td>\n",
       "    </tr>\n",
       "    <tr>\n",
       "      <th>51</th>\n",
       "      <td>KBS</td>\n",
       "      <td>하와이 킬라우에아 화산 두 달 만에 분화…용암 분출</td>\n",
       "      <td>2023.09.12. 오후 3:24</td>\n",
       "      <td>미국 하와이섬(빅 아일랜드)의 활화산인 킬라우에아 화산이 두 달 만에 다시 분화했습...</td>\n",
       "      <td>이웅수 (wslee@kbs.co.kr)</td>\n",
       "    </tr>\n",
       "    <tr>\n",
       "      <th>52</th>\n",
       "      <td>머니투데이</td>\n",
       "      <td>北으로 北으로...러시아 들어간 김정은, 푸틴과 '폭주열차' 시동</td>\n",
       "      <td>2023.09.12. 오후 4:52</td>\n",
       "      <td>[the300](블라디보스토크 로이터=뉴스1) 홍유진 기자 = 2019년 4월 25...</td>\n",
       "      <td>김지훈 기자 (lhshy@mt.co.kr)</td>\n",
       "    </tr>\n",
       "    <tr>\n",
       "      <th>53</th>\n",
       "      <td>뉴시스</td>\n",
       "      <td>日 시부야 \"핼러윈 때 오지말라\"며 '이태원' 언급</td>\n",
       "      <td>2023.09.13. 오전 10:04</td>\n",
       "      <td>\"시부야는 핼러윈 장소 아냐…목적이면 오지 말라\" 요청[도쿄=AP/뉴시스]핼러윈 당...</td>\n",
       "      <td>김효경 인턴 기자(hyogg33@newsis.com)</td>\n",
       "    </tr>\n",
       "    <tr>\n",
       "      <th>54</th>\n",
       "      <td>연합뉴스</td>\n",
       "      <td>中광둥성 7일간 폭우에 악어 75마리 농장서 탈출…\"집에 머물라\"</td>\n",
       "      <td>2023.09.12. 오후 2:48</td>\n",
       "      <td>광시좡족자치구서는 최소 7명 사망·3명 실종11일 폭우로 침수된 중국 광시좡족자치구...</td>\n",
       "      <td>윤고은(pretty@yna.co.kr)</td>\n",
       "    </tr>\n",
       "    <tr>\n",
       "      <th>55</th>\n",
       "      <td>뉴스1</td>\n",
       "      <td>美상무 부장관, 내주 방한…\"서울서 대중 수출통제 韓유예 논의\"(상보)</td>\n",
       "      <td>2023.09.13. 오전 3:25</td>\n",
       "      <td>코트라 워싱턴무역관 주최 포럼 참석…\"내주 더 많은 정보 가질 것\"\"전쟁 위한 기술...</td>\n",
       "      <td>김현 특파원 (gayunlove@news1.kr)</td>\n",
       "    </tr>\n",
       "  </tbody>\n",
       "</table>\n",
       "</div>"
      ],
      "text/plain": [
       "      paper                                              title  \\\n",
       "0      매일경제                   北, 김정은 러시아 도착 보도…金 “북러관계 전략적 중요”   \n",
       "1      데일리안            민주당, 결국 태영호 윤리위 제소…\"이재명 단식 중 행패 묵과 못 해\"   \n",
       "2     헤럴드경제                   與, 김어준-주진우-최경영 고발…“윤석열 명예 크게 훼손”   \n",
       "3       KBS               한 총리, 프라하서 체코 총리와 회담…“에너지·인프라 협력 강화”   \n",
       "4      이데일리           26일 국군의날 행사…최신 국산무기 8종 27대 공개, 10년만 시가행진   \n",
       "5      중앙일보                 국민의힘, 교원단체 만나 “교권 보호 4법 조속한 통과 노력”   \n",
       "6       SBS                              중대범죄자 '머그샷' 동의 없이도 공개   \n",
       "7      국민일보                러, 대북제재 거부 시사에… “엄포일 것” “사실일 것” 엇갈려   \n",
       "8      중앙일보                      ‘아동학대 신고 때 교사 자동 직위해제’ 조항 고친다   \n",
       "9       YTN                    與, \"단식 중 이재명 소환? 출석 요구하자 단식\" 비판   \n",
       "10     노컷뉴스                 \"수소산업 미래를 그리다\"…역대급 규모 'H2 MEET' 개막   \n",
       "11  kbc광주방송                     \"그냥 쉴게요\"..추석 연휴 늘었지만 여행보단 '집콕'   \n",
       "12     연합뉴스                          국회, 오늘 방문규 산업장관 후보자 인사청문회   \n",
       "13    아시아경제                     \"강북 랜드마크로\" 롯데마트, 제타플렉스 2호점 문연다   \n",
       "14     문화일보                       삼성 ‘라이프사이언스펀드’ 4호 투자는 에임드바이오   \n",
       "15     매일경제               “원유 재고 줄어든다” 이 보고서에 유가 급등, 100달러 임박?   \n",
       "16     노컷뉴스                       경북도·의회·교육청 \"우리 수산물 안심하고 드세요\"   \n",
       "17      KBS                       국제유가·환율 상승 영향…8월 수출입물가 동반 상승   \n",
       "18     한국경제                            \"치아보험 사기 연루 땐 형사처벌 받아요\"   \n",
       "19    머니투데이               친환경 규제 강화에 웃던 탄소배출권 ETF, 수익률 마이너스…왜?   \n",
       "20     서울신문                                  선문대, ‘대학혁신’ 최고 등급   \n",
       "21      MBN               \"학부모가 똥 묻은 기저귀로 폭행\"…어린이집 교사 남편의 청원 글   \n",
       "22     문화일보       12년 라디오 진행 프리랜서 아나운서 퇴직금 청구소송 패소…대법 “근로자 아냐”   \n",
       "23     연합뉴스                   내년 서울 공립 초등교사 110명·유치원교사 '0명' 선발   \n",
       "24     JTBC                   성범죄 신상등록대상자 10만명 넘어...168명은 소재불명   \n",
       "25     서울신문                   “사람으로서 선 지켜라”…허지웅, 대전 가해 학부모에 일침   \n",
       "26    머니투데이                     삭발에 단식까지…전북도의회, '새만금 예산 삭감' 반발   \n",
       "27     강원일보           조민, 유튜브 실버버튼 공개…\"할머니한테 선물로 드리려고 홍삼광고 수락\"   \n",
       "28     조선일보                  서울 지하철 노선도 40년만에 바뀐다... 2호선은 동그라미   \n",
       "29     매일경제                서울시, 9월 재산세 4조806억 부과…강남·서초·송파 1~3위   \n",
       "30     매일경제                      ‘누가 이 사람을 모르시나요’ 부른 가수 곽순옥 별세   \n",
       "31     노컷뉴스                     BTS 알엠 기부금으로 복원된 '활옷'…15일부터 전시   \n",
       "32     연합뉴스                내년 문화예술 예산 2조원대…파리올림픽 계기 K-컬처 집중 홍보   \n",
       "33      SBS                                 전국에 가을비…주말까지 비 이어져   \n",
       "34     TV조선                 [날씨] 전국 대부분 빗방울…강원 영동 100㎜ 이상 강한 비   \n",
       "35    헤럴드경제                 현대모비스 뇌파 분석 ‘엠브레인’, 안전기술대상 대통령상 수상   \n",
       "36      한겨레               [단독] ‘성추문’ 고은 시집 판매 재개…출간 뒤 130여권 팔려   \n",
       "37     세계일보  “라흐마니노프가 살아있다면 푸틴과 전쟁을 반대했을 것”…여성 지휘자로 새 역사 쓰는...   \n",
       "38   파이낸셜뉴스                           130g의 로봇 손이 100㎏을 들어 올린다   \n",
       "39   파이낸셜뉴스                             경찰청, 국제사이버범죄대응 심포지엄 개최   \n",
       "40     서울경제     성능은 높여도 5년째 아이폰 프로 가격 999달러…‘애플 혁신은 가격’ 공식 통할까   \n",
       "41     서울경제                             전화번호로 카톡 친구추가 거부 가능해진다   \n",
       "42    헤럴드경제                429만원 삼성 ‘명품폰’ 출시하자마자 ‘대박’…11만명 몰렸다   \n",
       "43     전자신문         사이버보안 국제표준회의 ITU-T SG17 성료…“국제표준 9건 승인 성과”   \n",
       "44   지디넷코리아                       의리 지킨 손흥민…'아이폰 안돼요' 셀카 거절 화제   \n",
       "45   디지털타임스                    ETRI-加 양자컴퓨팅 기업 손잡고 원천기술 확보 나선다   \n",
       "46     조선일보                    머스크 성격 미친듯이 조급...트위터 서버 직접 나르기도   \n",
       "47     연합뉴스          日 개각서 주요인사 유임 전망…\"오부치 前총리 딸, 선대위원장\"(종합2보)   \n",
       "48   연합뉴스TV                      리비아 대홍수로 2천 명 넘게 숨져…\"1만 명 실종\"   \n",
       "49     중앙일보                  \"북러회담에 中도 긴장…4년 전은 외교 쇼, 이번엔 다르다\"   \n",
       "50     이데일리                 아이폰 발표날…화웨이, 메이트60 출하량 목표 상향 '자신감'   \n",
       "51      KBS                       하와이 킬라우에아 화산 두 달 만에 분화…용암 분출   \n",
       "52    머니투데이               北으로 北으로...러시아 들어간 김정은, 푸틴과 '폭주열차' 시동   \n",
       "53      뉴시스                       日 시부야 \"핼러윈 때 오지말라\"며 '이태원' 언급   \n",
       "54     연합뉴스               中광둥성 7일간 폭우에 악어 75마리 농장서 탈출…\"집에 머물라\"   \n",
       "55      뉴스1            美상무 부장관, 내주 방한…\"서울서 대중 수출통제 韓유예 논의\"(상보)   \n",
       "\n",
       "                datetime                                            writing  \\\n",
       "0   2023.09.13. 오전 11:22  [레이더P]평양서 하산까지 최소 36시간 소요강순남 국방상 수행단 포함 확인 김정은...   \n",
       "1   2023.09.13. 오전 11:30  징계안 제출…與의 박영순 징계 추진 맞불 차원이기도태영호 국민의힘 의원이 7일 국회...   \n",
       "2   2023.09.13. 오전 11:14  “허위 인터뷰를 사실인 것처럼 그대로 방송해 명예훼손”“김어준, ‘대장동 인식을 바...   \n",
       "3    2023.09.13. 오전 9:25  한덕수 국무총리가 현지시각 12일 체코 프라하에서 페트르 피알라 체코 총리와 회담하...   \n",
       "4   2023.09.13. 오후 12:04  국방부 \"75주년 국군의 날, 강한 국군 선보일 것\"한미동맹 70주년 계기, 주한미...   \n",
       "5   2023.09.13. 오후 12:07  \\t\\t\\t  국민의힘이 교사의 정당한 교육 활동을 보호하기 위한 ‘교권 4법’의 ...   \n",
       "6    2023.09.13. 오전 3:51  \\t\\t\\t<앵커>중대 범죄 피의자의 경우 앞으로는 본인 동의가 없어도 검거 이후 ...   \n",
       "7    2023.09.13. 오전 4:08  전문가들 “막 나가기는 힘들 듯”정부 “무기 거래·기술 이전” 촉각북·중·러 국경이...   \n",
       "8   2023.09.13. 오전 12:01    박대출 국민의힘 정책위의장(왼쪽 셋째)이 12일 오전 국회에서 열린 ‘교원 대상...   \n",
       "9   2023.09.12. 오후 11:07  \\t\\t\\t국민의힘은 쌍방울 대북송금 의혹을 수사하는 검찰이 이 대표를 단식 중에 ...   \n",
       "10   2023.09.13. 오전 5:12  韓 수소산업 전시회 'H2 MEET' 열려303개 기업·기관 참가…전년比 26%↑연...   \n",
       "11   2023.09.13. 오전 9:48  ▲추석연휴 계획 설문조사 인포그래픽 사진: 연합뉴스 이번 추석 연휴에는 여행보다 고...   \n",
       "12   2023.09.13. 오전 5:00  에너지 정책·수출 부진 등 산업이슈 주요 쟁점 전망출근하는 방문규 산업부 장관 후보...   \n",
       "13   2023.09.13. 오전 6:00  롯데마트 플래그십 스토어 '제타플렉스 서울역점' 오픈매장 2층 85%까지 그로서리 ...   \n",
       "14  2023.09.13. 오전 11:58  ADC 기술 보유한 국내 기업공동연구로 K-바이오 활성화삼성이 미래 유망 기술로 꼽...   \n",
       "15   2023.09.13. 오전 9:32  미 EIA보고서 “공급 차질 우려”유가 10개월만에 최고치 급등브렌트유 1.6% 상...   \n",
       "16   2023.09.12. 오후 3:26  경북도의회, 수산물 안전성 검사 결과 신속 제공 조례안 의결경북도, 21일~27일 ...   \n",
       "17   2023.09.13. 오전 7:46  국제 유가가 오름세를 보이고 있는 가운데 지난달 수출입 물가가 모두 큰 폭으로 올랐...   \n",
       "18   2023.09.12. 오후 4:22  금감원, 소비자경보 발령“치아 보험 가입 후 간단한 치료만 받아도 큰돈을 받을 수 ...   \n",
       "19   2023.09.12. 오후 4:23  유럽 이상기온으로 탄소 배출량 감소…중장기적 투자 매력 여전탄소배출권 ETF 6개월...   \n",
       "20   2023.09.12. 오후 3:39  학생 맞춤형 혁신성과 분야, ‘S등급’ 획득다전공·전공 탐색 교과 등 운영선문대 전...   \n",
       "21  2023.09.13. 오후 12:38  사진=국회 국민동의청원 게시판 캡처세종시 한 어린이집 교사가 학부모로부터 인분이 묻...   \n",
       "22   2023.09.13. 오전 6:28  대법원 전경. 연합뉴스  자유롭게 출퇴근하고 겸직이 허용됐던 프리랜서 아나운서가 방...   \n",
       "23  2023.09.13. 오전 10:00  올해보다 8명 감소[서울시교육청 제공]    (서울=연합뉴스) 서혜림 기자 = 서울...   \n",
       "24   2023.09.13. 오전 9:06     기사와 관련 없는 자료사진.〈자료사진=JTBC 방송화면 캡처〉    경찰에 신...   \n",
       "25   2023.09.12. 오후 5:57  작가 겸 방송인 허지웅. 서울신문DB악성 민원에 시달리다 극단적 선택을 한 대전 초...   \n",
       "26  2023.09.13. 오후 12:14  [지방의회NOW]정부, \"새만금 입주기업에 필요한 사업은 그대로 지원\"▲한병도 더불...   \n",
       "27  2023.09.13. 오전 10:27  ◇조민 씨 유튜브 채널 '쪼민'에 게재된 영상 갈무리.조국 전 장관의 딸 조민 씨가...   \n",
       "28  2023.09.13. 오전 11:46  13일 서울시가 발표한 새로운 지하철 노선도 디자인. 순환선인 2호선을 동그라미로 ...   \n",
       "29  2023.09.13. 오전 10:53  개별공시지가 내려 전년보다 9.8% 감소강남구 9087억 최다…도봉구는 396억 서...   \n",
       "30  2023.09.13. 오전 10:47  \\t\\t\\t1960년대에 노래 ‘누가 이 사람을 모르시나요’를 부른 원로 가수 곽순...   \n",
       "31   2023.09.13. 오전 9:02  핵심요약'활옷 만개(滿開)-조선왕실 여성 혼례복' 특별전국내외 소장 '활옷' 9점 ...   \n",
       "32   2023.09.13. 오전 8:00  '대한민국 문화도시' 13곳 선정…건물 추가 개방 등 청와대에 330억원 통합문화이...   \n",
       "33   2023.09.13. 오전 8:48  오늘(13일) 전국 곳곳에 가을비가 내리겠습니다.오전 8시 현재 중부지방, 전북과 ...   \n",
       "34   2023.09.13. 오전 8:35  오늘 나오실 때는 우산 챙겨주셔야겠습니다. 전국 대부분 지역에 비가 내릴 텐데요. ...   \n",
       "35  2023.09.13. 오후 12:02  세계 최초 뇌파 기반 운전자 모니터링피곤, 졸음 등 건강 상태 실시간 체크경기도 공...   \n",
       "36   2023.09.13. 오전 5:03  출간 논란 뒤 공급 중단했던 실천문학“‘출판 자유’ 투쟁”…최근 시집 재공급고은 구...   \n",
       "37  2023.09.13. 오전 10:40  이탈리아 볼로냐 시립극장 첫 여성 음악감독, 바이로이트 축제 첫 여성 지휘자고국 우...   \n",
       "38  2023.09.13. 오후 12:01  KIST-KAIST 공동연구진, 소프트 로봇손 개발플라스틱 띠를 직조 구조로 단순하...   \n",
       "39  2023.09.13. 오후 12:01   [파이낸셜뉴스]경찰청은 13일에서 15일까지 JW메리어트 호텔 서울에서 '국제사이...   \n",
       "40   2023.09.13. 오전 8:55  애플 아이폰15 시리즈 출시하며 가격 동결프로, 프로 맥스 모델 차별화 뚜렷티타늄 ...   \n",
       "41  2023.09.13. 오전 11:23  ‘카톡이지’ 프로젝트 일환‘전화번호로 친구 추가 허용’ 옵션 도입카톡내 저장 여유공...   \n",
       "42  2023.09.13. 오전 10:28  명품 브랜드 톰브라운과 협업한 제품추첨 판매에 7시간 동안 11만명 응모‘갤럭시 Z...   \n",
       "43  2023.09.13. 오후 12:48  \\t\\t\\t한국에서 열린 국제연합(UN) 산하 국제전기통신연합 전기통신표준화 부문(...   \n",
       "44   2023.09.12. 오후 3:47  갤럭시 앰배서더 발탁 후 삼성전자 경쟁 제품 들 수 없어잉글랜드 프로축구 프리미어리...   \n",
       "45  2023.09.13. 오전 11:36  캐나다 자나두와 양자컴퓨팅 공동연구 추진한국전자통신연구원(ETRI)은 캐나다의 광기...   \n",
       "46  2023.09.13. 오전 10:19  일론 머스크 전기 표지 사진/사이먼 & 슈스터\\t\\t\\t\\t\\t\\t\\t\\t\\t\\t일...   \n",
       "47   2023.09.12. 오후 6:55  \"아소·모테기, 자민당 요직 유지…관방장관·재무상 변동 없을 듯\"외무상·방위상 및 ...   \n",
       "48   2023.09.13. 오전 5:47  \\t\\t\\t모로코에서 강진으로 수천 명의 사상자가 나온 가운데 이번엔 리비아에서 대...   \n",
       "49  2023.09.12. 오전 11:13  \\t\\t\\t  김정은 북한 국무위원장이 블라디미르 푸틴 러시아 대통령과 회담하기 위...   \n",
       "50  2023.09.13. 오전 10:05  하반기 메이트 60 시리즈 출하 목표 20%↑IT업계 \"총 2000만대 수준 재고 ...   \n",
       "51   2023.09.12. 오후 3:24  미국 하와이섬(빅 아일랜드)의 활화산인 킬라우에아 화산이 두 달 만에 다시 분화했습...   \n",
       "52   2023.09.12. 오후 4:52  [the300](블라디보스토크 로이터=뉴스1) 홍유진 기자 = 2019년 4월 25...   \n",
       "53  2023.09.13. 오전 10:04  \"시부야는 핼러윈 장소 아냐…목적이면 오지 말라\" 요청[도쿄=AP/뉴시스]핼러윈 당...   \n",
       "54   2023.09.12. 오후 2:48  광시좡족자치구서는 최소 7명 사망·3명 실종11일 폭우로 침수된 중국 광시좡족자치구...   \n",
       "55   2023.09.13. 오전 3:25  코트라 워싱턴무역관 주최 포럼 참석…\"내주 더 많은 정보 가질 것\"\"전쟁 위한 기술...   \n",
       "\n",
       "                                 writer  \n",
       "0              김성훈 기자(kokkiri@mk.co.kr)  \n",
       "1         고수정 기자 (ko0726@dailian.co.kr)  \n",
       "2              신현주 newkr@heraldcorp.com  \n",
       "3                   신지혜 (new@kbs.co.kr)  \n",
       "4             김관용(kky1441@edaily.co.kr)  \n",
       "5     임성빈 기자 im.soungbin@joongang.co.kr  \n",
       "6                  한소희 기자 han@sbs.co.kr  \n",
       "7              권중혁 기자(green@kmib.co.kr)  \n",
       "8    김효성 기자 kim.hyoseong@joongang.co.kr  \n",
       "9                  안윤학(yhahn@ytn.co.kr)  \n",
       "10         CBS노컷뉴스 윤준호 기자 yjh@cbs.co.kr  \n",
       "11                 고우리(wego@ikbc.co.kr)  \n",
       "12                한주홍(juhong@yna.co.kr)  \n",
       "13              김유리 기자 yr61@asiae.co.kr  \n",
       "14           박지웅 기자(topspin@munhwa.com)  \n",
       "15             황인혁 기자(ihhwang@mk.co.kr)  \n",
       "16        포항CBS 박정노 기자 jnpark@cbs.co.kr  \n",
       "17              손서영 (bellesy@kbs.co.kr)  \n",
       "18          최한종 기자 onebell@hankyung.com  \n",
       "19              김근희 기자 (keun7@mt.co.kr)  \n",
       "20                            아산 이종익 기자  \n",
       "21         김지영 디지털뉴스 기자 jzero@mbn.co.kr  \n",
       "22               곽선미 기자(gsm@munhwa.com)  \n",
       "23                    서혜림(sf@yna.co.kr)  \n",
       "24   장영준 기자 (jang.youngjoon@jtbc.co.kr)  \n",
       "25                               최재헌 기자  \n",
       "26           홍세미 기자 (semi4094@mt.co.kr)  \n",
       "27               조성호기자 csh@kwnews.co.kr  \n",
       "28              김휘원 기자 hwkim@chosun.com  \n",
       "29             권오균 기자(592kwon@mk.co.kr)  \n",
       "30                정주원 기자(jnwn@mk.co.kr)  \n",
       "31  CBS노컷뉴스 구병수 기자 leesak0322@cbs.co.kr  \n",
       "32                  이은정(mimi@yna.co.kr)  \n",
       "33         유영규 기자 sbsnewmedia@sbs.co.kr  \n",
       "34                            정희지 기상캐스터  \n",
       "35         서재근 likehyo85@heraldcorp.com  \n",
       "36               임인택 기자 imit@hani.co.kr  \n",
       "37             이강은 선임기자 kelee@segye.com  \n",
       "38          김만기 기자 (monarch@fnnews.com)  \n",
       "39            이진혁 기자 (beruf@fnnews.com)  \n",
       "40    실리콘밸리=정혜진 특파원(madein@sedaily.com)  \n",
       "41              김성태 기자(kim@sedaily.com)  \n",
       "42              이영기 20ki@heraldcorp.com  \n",
       "43                   조재학 2jh@etnews.com  \n",
       "44          류은주 기자(riswell@zdnet.co.kr)  \n",
       "45             이준기 기자(bongchu@dt.co.kr)  \n",
       "46              이해인 기자 hilee@chosun.com  \n",
       "47           박성진(sungjinpark@yna.co.kr)  \n",
       "48                박상률(srpark@yna.co.kr)  \n",
       "49          김상진 기자 kine3@joongang.co.kr  \n",
       "50             김겨레(re9709@edaily.co.kr)  \n",
       "51                이웅수 (wslee@kbs.co.kr)  \n",
       "52              김지훈 기자 (lhshy@mt.co.kr)  \n",
       "53        김효경 인턴 기자(hyogg33@newsis.com)  \n",
       "54                윤고은(pretty@yna.co.kr)  \n",
       "55          김현 특파원 (gayunlove@news1.kr)  "
      ]
     },
     "execution_count": 50,
     "metadata": {},
     "output_type": "execute_result"
    }
   ],
   "source": [
    "all_sub_news_info_df"
   ]
  },
  {
   "cell_type": "code",
   "execution_count": 51,
   "id": "5d69a6f4-bc5f-4d9e-9af4-7e66fdb8ca14",
   "metadata": {},
   "outputs": [],
   "source": [
    "all_sub_news_info_df.to_csv('./crawl_data/naver_sub_news_section.csv', index=0)"
   ]
  },
  {
   "cell_type": "code",
   "execution_count": 53,
   "id": "370b1b00-c317-42f0-895a-7fb4ff241a9a",
   "metadata": {},
   "outputs": [],
   "source": [
    "all_sub_news_info_df = pd.read_csv('./crawl_data/naver_sub_news_section.csv')\n",
    "# all_sub_news_info_df"
   ]
  },
  {
   "cell_type": "code",
   "execution_count": null,
   "id": "0c47eeeb-63a7-4c9f-98d9-d8280f0a4c5a",
   "metadata": {},
   "outputs": [],
   "source": []
  }
 ],
 "metadata": {
  "kernelspec": {
   "display_name": "Python 3 (ipykernel)",
   "language": "python",
   "name": "python3"
  },
  "language_info": {
   "codemirror_mode": {
    "name": "ipython",
    "version": 3
   },
   "file_extension": ".py",
   "mimetype": "text/x-python",
   "name": "python",
   "nbconvert_exporter": "python",
   "pygments_lexer": "ipython3",
   "version": "3.11.5"
  }
 },
 "nbformat": 4,
 "nbformat_minor": 5
}
