{
 "cells": [
  {
   "cell_type": "markdown",
   "id": "f410e3ad-ddf9-4eb7-94f3-4190cd5503c8",
   "metadata": {},
   "source": [
    "### 동적 페이지 크롤링"
   ]
  },
  {
   "cell_type": "code",
   "execution_count": 1,
   "id": "bfc2f0ba-783b-4833-8515-f516e02b8b20",
   "metadata": {},
   "outputs": [],
   "source": [
    "from IPython.core.interactiveshell import InteractiveShell\n",
    "InteractiveShell.ast_node_interactivity=\"all\""
   ]
  },
  {
   "cell_type": "code",
   "execution_count": 2,
   "id": "12e0430b-08cb-4644-a5b7-cef6f88c13b5",
   "metadata": {},
   "outputs": [],
   "source": [
    "from urllib.request import urlopen\n",
    "import pandas as pd\n",
    "import bs4"
   ]
  },
  {
   "cell_type": "markdown",
   "id": "90971448-17b9-4904-9fda-28225c1ced19",
   "metadata": {},
   "source": [
    "#### 실행 중에 자바스크립트를통해 동적으로 변환된 값 추출\n",
    "- 정적 페이지에서는 추출 안 됨  \n",
    "- 셀레니움을 사용해서 동적 페이지를 별도로 열어서 추출  "
   ]
  },
  {
   "cell_type": "code",
   "execution_count": 3,
   "id": "0d69fac7-bc88-4313-8937-3c5e9b29f0ae",
   "metadata": {},
   "outputs": [],
   "source": [
    "url = 'https://n.news.naver.com/mnews/article/079/0003812365?sid=100'\n",
    "htmls = urlopen(url)\n",
    "bs_obj = bs4.BeautifulSoup(htmls, \"html.parser\")"
   ]
  },
  {
   "cell_type": "code",
   "execution_count": 4,
   "id": "e1f34bbd-0ed7-4e4b-89bc-0a82791d9374",
   "metadata": {},
   "outputs": [
    {
     "data": {
      "text/plain": [
       "'尹 \"가짜뉴스, AI 이용해 빠른 속도 확산…자유민주주의 훼손, 미래 망쳐\"'"
      ]
     },
     "execution_count": 4,
     "metadata": {},
     "output_type": "execute_result"
    }
   ],
   "source": [
    "# 제목은 추출 가능\n",
    "title = bs_obj.find('div', {'class' : 'media_end_head_title'}).select_one('span').text\n",
    "title"
   ]
  },
  {
   "cell_type": "code",
   "execution_count": 5,
   "id": "d43fc368-baa9-44bd-9996-9314a189b3a5",
   "metadata": {},
   "outputs": [
    {
     "name": "stdout",
     "output_type": "stream",
     "text": [
      "None\n"
     ]
    }
   ],
   "source": [
    "# 좋아요 수 추출 : 못함 (None)\n",
    "like_num = bs_obj.find('span', {'class':'u_likeit_text _count num'})\n",
    "like_num\n",
    "\n",
    "if like_num is None:\n",
    "    print(\"None\")"
   ]
  },
  {
   "cell_type": "code",
   "execution_count": 6,
   "id": "40bd1757-26e5-47ce-98a1-af4098cc95f9",
   "metadata": {},
   "outputs": [
    {
     "data": {
      "text/plain": [
       "'댓글'"
      ]
     },
     "execution_count": 6,
     "metadata": {},
     "output_type": "execute_result"
    }
   ],
   "source": [
    "# comment_count 수 추출\n",
    "comment_count = bs_obj.find('a', {'id':'comment_count'}).text\n",
    "comment_count\n",
    "\n",
    "if comment_count is None:\n",
    "    print(\"None\")"
   ]
  },
  {
   "cell_type": "code",
   "execution_count": 7,
   "id": "a657414d-855c-43da-9a95-54a4bf334ffb",
   "metadata": {},
   "outputs": [],
   "source": [
    "######################################################################"
   ]
  },
  {
   "cell_type": "code",
   "execution_count": null,
   "id": "4be0fc2a-2d69-45b4-bf25-1334c96301a1",
   "metadata": {},
   "outputs": [],
   "source": [
    "#### selenium 패키지 모듈 이용한 자동 크롤링 \n",
    "# seleniu\n",
    "# \n",
    "#webdriver라는 API를 통해 운영체제에 설치된 웹 브라우저를 제어하는 함수를 포함한 캐지패# \n",
    "#써드파티라이브러리이기 때문에 설치 해 줘  야- ! 설# pip install seleniumium"
   ]
  },
  {
   "cell_type": "code",
   "execution_count": null,
   "id": "7734ff0c-6e85-483e-9881-c8265e5319ec",
   "metadata": {},
   "outputs": [],
   "source": [
    "\n",
    "# Selenium : 동적으로 변하는 값 또는 페이지 크롤링에 사용\n",
    "# - webdriver라는 API를 통해 웹 브라우저를 제어하는 도구\n",
    "# - 써드파티라이브러리이기 때문에 설치 필요\n",
    "# - Beautiful Soup과 함께 사용할 수 있어 훨씬 쉽게 크롤링할 수 있음\n",
    "# - requests를 통한 .text의 경우 브라우저에서 ‘소스보기’를 한 것과 같이 동작 (정적 페이지)\n",
    "# - 자바스크립트를 통해 동적으로 변환된 DOM 요소에 접근 불가\n",
    "# - 반면 Selenium은 실제 웹 브라우저가 동작하기 때문에\n",
    "# - 자바스크립트 실행이 완료된 후에 동적으로 변환된 DOM 결과물에 접근 가능\n"
   ]
  },
  {
   "cell_type": "code",
   "execution_count": null,
   "id": "f9065c26-2d60-4e2e-8c15-1eb4a4372377",
   "metadata": {},
   "outputs": [],
   "source": [
    "# selenium 메소드\n",
    "# driver.find_element(By.CLASS_NAME, \"information\")\n",
    "# driver.find_element(By.CSS_SELECTOR, \"#fname\")\n",
    "# driver.find_element(By.ID, \"lname\")\n",
    "# driver.find_element(By.LINK_TEXT, \"Selenium Official Page\")\n",
    "# driver.find_element(By.NAME, \"newsletter\")\n",
    "# driver.find_element(By.PARTIAL_LINK_TEXT, \"Official Page\")\n",
    "# driver.find_element(By.TAG_NAME, \"a\")\n",
    "# driver.find_element(By.XPATH, \"//input[@value='f']\")\n",
    "# driver가 접근한 페이지의 source 추출\n"
   ]
  },
  {
   "cell_type": "code",
   "execution_count": null,
   "id": "d26fcef3-5351-4f75-9c37-39a96decce06",
   "metadata": {},
   "outputs": [],
   "source": [
    "# !pip install  selenium"
   ]
  },
  {
   "cell_type": "code",
   "execution_count": 14,
   "id": "8fd05ff6-8bc4-49cb-974c-3db81fd8859c",
   "metadata": {},
   "outputs": [],
   "source": [
    "# import selenium"
   ]
  },
  {
   "cell_type": "code",
   "execution_count": 15,
   "id": "55460dd2-25b3-44b8-9371-b23a949d4f9f",
   "metadata": {},
   "outputs": [
    {
     "name": "stdout",
     "output_type": "stream",
     "text": [
      "Name: selenium\n",
      "Version: 4.12.0\n",
      "Summary: \n",
      "Home-page: https://www.selenium.dev\n",
      "Author: \n",
      "Author-email: \n",
      "License: Apache 2.0\n",
      "Location: C:\\Users\\student\\AppData\\Local\\Programs\\Python\\Python311\\Lib\\site-packages\n",
      "Requires: certifi, trio, trio-websocket, urllib3\n",
      "Required-by: \n"
     ]
    }
   ],
   "source": [
    "# !pip show selenium"
   ]
  },
  {
   "cell_type": "code",
   "execution_count": null,
   "id": "290bdb79-8acd-4ce8-90be-06af7cdea261",
   "metadata": {},
   "outputs": [],
   "source": [
    "# selenium 버전이 3인 경우 4로 업그레이드\n",
    "# !pip install --upgrade selenium"
   ]
  },
  {
   "cell_type": "code",
   "execution_count": null,
   "id": "14fa1191-5a93-4545-939e-0291efbfb37a",
   "metadata": {},
   "outputs": [],
   "source": [
    "# !pip install webdriver_manager"
   ]
  },
  {
   "cell_type": "code",
   "execution_count": 8,
   "id": "0ee26413-ac2d-4995-92b6-d92e6a1327f4",
   "metadata": {},
   "outputs": [],
   "source": [
    "import selenium\n",
    "from selenium import webdriver\n",
    "from selenium.webdriver.common.by import By # 셀레니움 4.0부터 포함된 객체(모듈)\n",
    "\n",
    "from selenium.webdriver.chrome.service import Service\n",
    "from webdriver_manager.chrome import ChromeDriverManager\n"
   ]
  },
  {
   "cell_type": "code",
   "execution_count": 9,
   "id": "23ee0d89-465a-4944-af11-503a940a9fd8",
   "metadata": {},
   "outputs": [],
   "source": [
    "# (1) webdriver 객체 생성\n",
    "chrome_options = webdriver.ChromeOptions()\n",
    "driver = webdriver.Chrome(service=Service(ChromeDriverManager().install()), options=chrome_options)"
   ]
  },
  {
   "cell_type": "code",
   "execution_count": 10,
   "id": "aee7c93c-d662-4383-8948-33a0b4fa660f",
   "metadata": {},
   "outputs": [],
   "source": [
    "# 페이지 접속\n",
    "driver.get(\"https://n.news.naver.com/mnews/article/079/0003812365?sid=100\")"
   ]
  },
  {
   "cell_type": "code",
   "execution_count": 15,
   "id": "a2d94bf1-0f76-45b6-949e-a4fed79bac79",
   "metadata": {},
   "outputs": [
    {
     "data": {
      "text/plain": [
       "'2'"
      ]
     },
     "execution_count": 15,
     "metadata": {},
     "output_type": "execute_result"
    },
    {
     "data": {
      "text/plain": [
       "'2'"
      ]
     },
     "execution_count": 15,
     "metadata": {},
     "output_type": "execute_result"
    }
   ],
   "source": [
    "# 좋아요 수 추출\n",
    "# 클래스 선택자로 선택\n",
    "like_num = driver.find_element(By.CSS_SELECTOR, '.u_likeit_text._count.num')\n",
    "like_num.text\n",
    "\n",
    "# 클래스 이름으로 선택\n",
    "like_num = driver.find_element(By.CLASS_NAME, 'u_likeit_text._count.num')\n",
    "like_num.text\n",
    "# 선택자 주의!\n",
    "# 중간에 스페이스 있으면 안됨 : (.)점으로 연결해야 함"
   ]
  },
  {
   "cell_type": "code",
   "execution_count": 16,
   "id": "6144dd60-6bf7-4797-9c0a-c60d2d5d818f",
   "metadata": {},
   "outputs": [
    {
     "data": {
      "text/plain": [
       "'36'"
      ]
     },
     "execution_count": 16,
     "metadata": {},
     "output_type": "execute_result"
    }
   ],
   "source": [
    "# 댓글 수 추출 : 'a', {'id':'comment_count'}\n",
    "comment_count = driver.find_element(By.ID, 'comment_count')\n",
    "comment_count.text"
   ]
  },
  {
   "cell_type": "code",
   "execution_count": null,
   "id": "61fe0013-1deb-48e2-8225-c24fd4296d97",
   "metadata": {},
   "outputs": [],
   "source": []
  },
  {
   "cell_type": "code",
   "execution_count": 17,
   "id": "6b8ed47b-5884-4bac-bc19-bea4ca86fd07",
   "metadata": {},
   "outputs": [],
   "source": [
    "driver.close()"
   ]
  },
  {
   "cell_type": "code",
   "execution_count": null,
   "id": "66c46a86-bd7e-4953-8f9f-2b16acc928ea",
   "metadata": {},
   "outputs": [],
   "source": [
    "# 주의! \n",
    "# driver를 통해서 연 브라우저는 driver.close() 해서 닫음\n",
    "# 다시 (1) webdriver 객체 생성을 할 때 오류가 발생하면\n",
    "# (1) Kernal / Restart Kernal ...\n",
    "# 그래도 오류나면 주피터 노트북을 닫고 다시 실행시켜야 함"
   ]
  }
 ],
 "metadata": {
  "kernelspec": {
   "display_name": "Python 3 (ipykernel)",
   "language": "python",
   "name": "python3"
  },
  "language_info": {
   "codemirror_mode": {
    "name": "ipython",
    "version": 3
   },
   "file_extension": ".py",
   "mimetype": "text/x-python",
   "name": "python",
   "nbconvert_exporter": "python",
   "pygments_lexer": "ipython3",
   "version": "3.11.5"
  }
 },
 "nbformat": 4,
 "nbformat_minor": 5
}
