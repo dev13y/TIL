{
 "cells": [
  {
   "cell_type": "markdown",
   "id": "75a81317-7a5d-43cf-8ffe-ca37669dfa64",
   "metadata": {},
   "source": [
    "### \n",
    "웹 크롤링"
   ]
  },
  {
   "cell_type": "markdown",
   "id": "0e1ecab5-3b5e-423f-9ea9-93ac619a2ae2",
   "metadata": {},
   "source": [
    "웹 크롤링 (web crawling)\n",
    "- \n",
    "자동화 봇(bot)인 웹 크롤러가 정해진 규칙에 따라 복수 개의 웹 페이지를 브라우징 하는 행위- \n",
    "크롤러 : 조직적, 자동화된 방법으로 월드와이드 웹을 탐색하는 컴퓨터 프로그램이다.(출처: 위키백과\n",
    ")\n",
    "파싱 (parsin- g)\n",
    "받아온 데이터에서 필요로 하는 내용을 추출하\n",
    "는 것\n",
    "웹 스크래핑(웹 스크레이핑)(web scrap- ing)\n",
    "웹 사이트 상에서 원하는 부분에 위치한 정보를 컴퓨터로 하여금 자동으로 추출하여 수집하는 기술"
   ]
  },
  {
   "cell_type": "markdown",
   "id": "ea211167-6d11-4ae2-b761-c2a6474ecac4",
   "metadata": {},
   "source": [
    "웹 크롤링\n",
    "(1) html 문서 내용 읽어오기\n",
    "- url에 접속\n",
    "  - urllib 패키지의 urlopen() 함수 사용\n",
    "  - urllib 패키지 : url(인터넷 주소)을 넣고 실행하면 데이터를 텍스트로 형태로 반환\n",
    "- html 문서  전체 내용 읽어오기\n",
    "   -  read() 함수 사용"
   ]
  },
  {
   "cell_type": "markdown",
   "id": "eae8ee94-fdb2-4740-ae56-cdfdd4ffbf17",
   "metadata": {},
   "source": [
    "파싱\n",
    "- html 문서에서 원하는 내용 추출\n",
    "  - 필요한 내용만 추출\n",
    "  - BeautifulSoup 라이브러리 사용\n",
    "    - 데이터를  추출하는데 필요한 기능이 들어 있는라이브러리 (파싱 라이브러리)\n",
    "    - find() / findAll() / find_all() 함수\n",
    "    - select() / select_one()"
   ]
  },
  {
   "cell_type": "code",
   "execution_count": null,
   "id": "5283eb4b-69c5-46fb-ac1f-dc277ec734a3",
   "metadata": {},
   "outputs": [],
   "source": []
  },
  {
   "cell_type": "code",
   "execution_count": null,
   "id": "89f0a65f-e4c5-4401-a540-df7837c5e1be",
   "metadata": {},
   "outputs": [],
   "source": [
    "# 한 셀에서 여러 개의 결과값 출력\n",
    "from IPython.core.interactiveshell import InteractiveShell\n",
    "InteractiveShell.ast_node_interactivity=\"all\""
   ]
  },
  {
   "cell_type": "markdown",
   "id": "1179a452-e681-4f61-9f61-62e0d25b91e1",
   "metadata": {},
   "source": [
    "### urllib 패키지 사용한 소스 추출"
   ]
  },
  {
   "cell_type": "code",
   "execution_count": 1,
   "id": "473eb43e-c553-4ba5-962a-be8b9467e9c9",
   "metadata": {},
   "outputs": [],
   "source": [
    "from urllib.request import urlopen"
   ]
  },
  {
   "cell_type": "code",
   "execution_count": null,
   "id": "17cd7128-ecb5-43cd-8aac-1298ee389b52",
   "metadata": {},
   "outputs": [],
   "source": [
    "# 셀 실행 \n",
    "# Ctrl + Enter\n",
    "# Shift + Enter (다음 셀로 이동)"
   ]
  },
  {
   "cell_type": "code",
   "execution_count": 2,
   "id": "6d09fa89-fbd8-4a2c-a21c-62729a00844a",
   "metadata": {},
   "outputs": [],
   "source": [
    "# 응답 객체에서 소스 코드 가져오기\n",
    "url = \"https://www.tistory.com\"\n",
    "html = urlopen(url)\n",
    "text = html.read()"
   ]
  },
  {
   "cell_type": "code",
   "execution_count": 4,
   "id": "552239ad-09ad-4cff-9b92-71f8d513475b",
   "metadata": {},
   "outputs": [],
   "source": [
    "# text.decode('utf8') # 인코딩 \n",
    "# 문서 전체 내용을 텍스트로 받아와서 출력"
   ]
  },
  {
   "cell_type": "code",
   "execution_count": null,
   "id": "12e635e4-75c0-4f1e-93d5-406aa2634037",
   "metadata": {},
   "outputs": [],
   "source": [
    "#########################################"
   ]
  },
  {
   "cell_type": "markdown",
   "id": "e438f1b1-f1d8-4c32-9a0e-8ec1773c5132",
   "metadata": {},
   "source": [
    "### BeautifulSoup 사용법"
   ]
  },
  {
   "cell_type": "code",
   "execution_count": 8,
   "id": "b705b272-f2b7-4605-a6f7-d1a5cc005907",
   "metadata": {},
   "outputs": [],
   "source": [
    "import bs4"
   ]
  },
  {
   "cell_type": "code",
   "execution_count": null,
   "id": "fa157da4-e0b4-4cf9-9a88-31104313dea0",
   "metadata": {},
   "outputs": [],
   "source": [
    "# import bs4 실행해서 오류 있으면 패키지 설치\n",
    "# !pip install bs4 "
   ]
  },
  {
   "cell_type": "code",
   "execution_count": 9,
   "id": "9342291d-728e-4800-be90-669c77ffa0ee",
   "metadata": {},
   "outputs": [],
   "source": [
    "url = \"https://www.tistory.com\"\n",
    "html = urlopen(url)"
   ]
  },
  {
   "cell_type": "code",
   "execution_count": 10,
   "id": "c0f7e2db-060a-4c9c-b6f4-68f068ae02cb",
   "metadata": {},
   "outputs": [],
   "source": [
    "# bs4 파싱 객체 반환\n",
    "bs_obj = bs4.BeautifulSoup(html, 'html.parser')\n",
    "# 파싱 객체가 생성되면, 객체의 메소드  사용해서 추출 가능"
   ]
  },
  {
   "cell_type": "code",
   "execution_count": 12,
   "id": "88efe1b3-f514-4c99-81b7-d52fc1296284",
   "metadata": {},
   "outputs": [],
   "source": [
    "# bs_obj"
   ]
  },
  {
   "cell_type": "code",
   "execution_count": 14,
   "id": "4a30a3cc-6656-40a7-8c89-dbecfe57d0df",
   "metadata": {},
   "outputs": [],
   "source": [
    "# 계층구조 표현 : 가독성이 좋음\n",
    "# print(bs_obj.prettify())"
   ]
  },
  {
   "cell_type": "code",
   "execution_count": 15,
   "id": "a325f1ab-c6bf-4787-a91a-f6a47b7df7bb",
   "metadata": {},
   "outputs": [],
   "source": [
    "# test 용 html 문서 내용\n",
    "html_str = \"<html><div>hello</div></html>\""
   ]
  },
  {
   "cell_type": "code",
   "execution_count": 16,
   "id": "dc21cabb-6554-4cbe-8228-b90e8ed9a43a",
   "metadata": {},
   "outputs": [
    {
     "data": {
      "text/plain": [
       "<html><div>hello</div></html>"
      ]
     },
     "execution_count": 16,
     "metadata": {},
     "output_type": "execute_result"
    }
   ],
   "source": [
    "# (1) html 코드 -> 파싱  객체로 변환\n",
    "bs_obj = bs4.BeautifulSoup(html_str, 'html.parser')\n",
    "bs_obj"
   ]
  },
  {
   "cell_type": "code",
   "execution_count": null,
   "id": "fc001548-f760-408f-a7c4-77c3909e9a5e",
   "metadata": {},
   "outputs": [],
   "source": [
    "########################## 태그명으로 추출 ##############"
   ]
  },
  {
   "cell_type": "code",
   "execution_count": 19,
   "id": "df12c0c4-6e73-43f2-af14-657ced308668",
   "metadata": {},
   "outputs": [
    {
     "data": {
      "text/plain": [
       "<div>hello</div>"
      ]
     },
     "execution_count": 19,
     "metadata": {},
     "output_type": "execute_result"
    },
    {
     "data": {
      "text/plain": [
       "'hello'"
      ]
     },
     "execution_count": 19,
     "metadata": {},
     "output_type": "execute_result"
    }
   ],
   "source": [
    "# (2) find() 메소드 사용해서 태그 추출\n",
    "# find() : 첫 번째 태그만 추출\n",
    "# find('태그명')\n",
    "bs_obj.find('div')  # <div> 태그 추출\n",
    "bs_obj.find('div').text # 텍스트 속성 : 텍스트(문자열) 반환"
   ]
  },
  {
   "cell_type": "code",
   "execution_count": 20,
   "id": "279f8a45-b461-4e9f-9f4a-9edd34be7dea",
   "metadata": {},
   "outputs": [],
   "source": [
    "html_str = \"\"\"\n",
    "<html>\n",
    "    <body>\n",
    "        <ul>\n",
    "            <li>hello</li>\n",
    "            <li>bye</li>\n",
    "            <li>welcome</li>\n",
    "        </ul>\n",
    "    </body>\n",
    "</html>\n",
    "\"\"\""
   ]
  },
  {
   "cell_type": "code",
   "execution_count": 21,
   "id": "4f9811b9-bae3-4591-a303-24d26257a610",
   "metadata": {},
   "outputs": [
    {
     "data": {
      "text/plain": [
       "\n",
       "<html>\n",
       "<body>\n",
       "<ul>\n",
       "<li>hello</li>\n",
       "<li>bye</li>\n",
       "<li>welcome</li>\n",
       "</ul>\n",
       "</body>\n",
       "</html>"
      ]
     },
     "execution_count": 21,
     "metadata": {},
     "output_type": "execute_result"
    }
   ],
   "source": [
    "# 파싱  객체 생성\n",
    "bs_obj = bs4.BeautifulSoup(html_str, 'html.parser')\n",
    "bs_obj"
   ]
  },
  {
   "cell_type": "code",
   "execution_count": 22,
   "id": "b75e3663-6edf-4d95-b967-ff162c44153b",
   "metadata": {},
   "outputs": [
    {
     "data": {
      "text/plain": [
       "<ul>\n",
       "<li>hello</li>\n",
       "<li>bye</li>\n",
       "<li>welcome</li>\n",
       "</ul>"
      ]
     },
     "execution_count": 22,
     "metadata": {},
     "output_type": "execute_result"
    }
   ],
   "source": [
    "# <ul>  태그 추출\n",
    "ul = bs_obj.find('ul')\n",
    "ul"
   ]
  },
  {
   "cell_type": "code",
   "execution_count": 24,
   "id": "343518d6-759c-4eb4-9f1b-11b585658e86",
   "metadata": {},
   "outputs": [
    {
     "data": {
      "text/plain": [
       "<li>hello</li>"
      ]
     },
     "execution_count": 24,
     "metadata": {},
     "output_type": "execute_result"
    },
    {
     "data": {
      "text/plain": [
       "[<li>hello</li>, <li>bye</li>, <li>welcome</li>]"
      ]
     },
     "execution_count": 24,
     "metadata": {},
     "output_type": "execute_result"
    }
   ],
   "source": [
    "# <ul> 태그 중에서 첫 번째 <li> 태그만 추출\n",
    "ul.find('li')\n",
    "\n",
    "ul.findAll('li') # findAll() : 리스트로 반환"
   ]
  },
  {
   "cell_type": "code",
   "execution_count": 26,
   "id": "7b50a807-d5c1-42b6-b1f3-c12f20864569",
   "metadata": {},
   "outputs": [
    {
     "name": "stdout",
     "output_type": "stream",
     "text": [
      "hello\n",
      "bye\n",
      "welcome\n"
     ]
    }
   ],
   "source": [
    "# 모든 <li> 태그 내 text 추출 : 반복문\n",
    "lis = ul.findAll('li')\n",
    "\n",
    "for li in lis:\n",
    "    print(li.text)"
   ]
  },
  {
   "cell_type": "code",
   "execution_count": null,
   "id": "532f74e4-f6a1-40d2-a59c-e45576be3e57",
   "metadata": {},
   "outputs": [],
   "source": [
    "###################### class 속성으로 추출 ###################"
   ]
  },
  {
   "cell_type": "code",
   "execution_count": null,
   "id": "28a8428c-97d9-4b85-a11a-b667a94e2bcd",
   "metadata": {},
   "outputs": [],
   "source": [
    "# 태그 중에 특정 속성을 갖고 있는 태그 추출\n",
    "# find('태그명', {'속성명':'속성값'})\n",
    "# ('ul', {'class':'greet'})"
   ]
  },
  {
   "cell_type": "code",
   "execution_count": 60,
   "id": "4cb1fc5b-254e-43dc-a7cc-af678e56b745",
   "metadata": {},
   "outputs": [],
   "source": [
    "html_str = \"\"\"\n",
    "<html>\n",
    "    <body>\n",
    "        <ul class=\"greet\">\n",
    "            <li>hello</li>\n",
    "            <li>bye</li>\n",
    "            <li>welcome</li>\n",
    "        </ul>\n",
    "        <ul class=\"reply\">\n",
    "            <li>ok</li>\n",
    "            <li>no</li>\n",
    "            <li>sure</li>\n",
    "        </ul>\n",
    "    </body>\n",
    "</html>\n",
    "\"\"\""
   ]
  },
  {
   "cell_type": "code",
   "execution_count": 61,
   "id": "52884e4a-92db-412e-b13c-b8ea9c47be1e",
   "metadata": {},
   "outputs": [
    {
     "data": {
      "text/plain": [
       "\n",
       "<html>\n",
       "<body>\n",
       "<ul class=\"greet\">\n",
       "<li>hello</li>\n",
       "<li>bye</li>\n",
       "<li>welcome</li>\n",
       "</ul>\n",
       "<ul class=\"reply\">\n",
       "<li>ok</li>\n",
       "<li>no</li>\n",
       "<li>sure</li>\n",
       "</ul>\n",
       "</body>\n",
       "</html>"
      ]
     },
     "execution_count": 61,
     "metadata": {},
     "output_type": "execute_result"
    }
   ],
   "source": [
    "# 파싱  객체 생성\n",
    "bs_obj = bs4.BeautifulSoup(html_str, 'html.parser')\n",
    "bs_obj"
   ]
  },
  {
   "cell_type": "code",
   "execution_count": 62,
   "id": "4426c78a-b29b-4a00-b91e-322bd47c12ad",
   "metadata": {},
   "outputs": [
    {
     "data": {
      "text/plain": [
       "<ul class=\"greet\">\n",
       "<li>hello</li>\n",
       "<li>bye</li>\n",
       "<li>welcome</li>\n",
       "</ul>"
      ]
     },
     "execution_count": 62,
     "metadata": {},
     "output_type": "execute_result"
    }
   ],
   "source": [
    "# class 속성값이 greet인 태그 추출\n",
    "bs_obj.find('ul', {'class':'greet'})"
   ]
  },
  {
   "cell_type": "code",
   "execution_count": 63,
   "id": "bb0693f2-f28f-4219-b56d-8e946b075e40",
   "metadata": {},
   "outputs": [
    {
     "name": "stdout",
     "output_type": "stream",
     "text": [
      "hello\n",
      "bye\n",
      "welcome\n"
     ]
    }
   ],
   "source": [
    "# class 속성값이 greet인 ul 태그 내 모든 li 태그의 텍스트값 추출\n",
    "li_tag = bs_obj.find('ul', {'class', 'greet'}).findAll('li')\n",
    "\n",
    "for li in li_tag:\n",
    "    print(li.text)"
   ]
  },
  {
   "cell_type": "code",
   "execution_count": null,
   "id": "e5900b8c-c42b-45fb-9d09-ff6348a1bbf4",
   "metadata": {},
   "outputs": [],
   "source": [
    "#################### id 속성으로 추출 ######################"
   ]
  },
  {
   "cell_type": "code",
   "execution_count": 64,
   "id": "11b7b5f4-0968-4471-9e2a-163737ef6e24",
   "metadata": {},
   "outputs": [],
   "source": [
    "html_str = '''\n",
    "<html>\n",
    "    <body>\n",
    "        <h1 id='title'>Hello Python</h1>\n",
    "        <p id=\"crawling\">웹 크롤링</p>\n",
    "        <p id=\"parsing\">파싱</p>\n",
    "    </body>\n",
    "</html>'''\n"
   ]
  },
  {
   "cell_type": "code",
   "execution_count": 65,
   "id": "0681ee77-0f78-4e3c-8fd0-8ca94319cb4f",
   "metadata": {},
   "outputs": [],
   "source": [
    "# 파싱  객체 생성\n",
    "bs_obj = bs4.BeautifulSoup(html_str, 'html.parser')\n",
    "# bs_obj"
   ]
  },
  {
   "cell_type": "code",
   "execution_count": 67,
   "id": "822535c4-dc11-4765-955b-4b0fa0b0e012",
   "metadata": {},
   "outputs": [
    {
     "data": {
      "text/plain": [
       "<h1 id=\"title\">Hello Python</h1>"
      ]
     },
     "execution_count": 67,
     "metadata": {},
     "output_type": "execute_result"
    },
    {
     "data": {
      "text/plain": [
       "'Hello Python'"
      ]
     },
     "execution_count": 67,
     "metadata": {},
     "output_type": "execute_result"
    }
   ],
   "source": [
    "# id가 title인 태그와 텍스트  추출\n",
    "bs_obj.find('h1',{'id':'title'})\n",
    "bs_obj.find('h1',{'id':'title'}).text"
   ]
  },
  {
   "cell_type": "code",
   "execution_count": 71,
   "id": "4bec6cb3-4753-4270-a38e-10ff4f608161",
   "metadata": {},
   "outputs": [
    {
     "data": {
      "text/plain": [
       "<p id=\"parsing\">파싱</p>"
      ]
     },
     "execution_count": 71,
     "metadata": {},
     "output_type": "execute_result"
    },
    {
     "data": {
      "text/plain": [
       "'파싱'"
      ]
     },
     "execution_count": 71,
     "metadata": {},
     "output_type": "execute_result"
    }
   ],
   "source": [
    "# id가 parsing인 태그와 텍스트  추출\n",
    "bs_obj.find('p',{'id':'parsing'})\n",
    "bs_obj.find('p',{'id':'parsing'}).text"
   ]
  },
  {
   "cell_type": "code",
   "execution_count": null,
   "id": "8f861760-a8d7-47af-9125-06645b25b8fe",
   "metadata": {},
   "outputs": [],
   "source": [
    "###형제노드찾기\n",
    "###next_sibling"
   ]
  },
  {
   "cell_type": "code",
   "execution_count": 77,
   "id": "acadf05e-044a-46c7-a568-03d152548209",
   "metadata": {},
   "outputs": [],
   "source": [
    "html_str = '''\n",
    "<html>\n",
    "    <body>\n",
    "        <h1>Hello Python</h1>\n",
    "        <p>웹페이지분석</p>\n",
    "        <p>크롤링</p><p>파싱</p>\n",
    "    </body>\n",
    "</html>'''\n"
   ]
  },
  {
   "cell_type": "code",
   "execution_count": 78,
   "id": "a5a531c4-a77e-4c8a-ab11-6ba87cfcba42",
   "metadata": {},
   "outputs": [],
   "source": [
    "# 파싱  객체 생성\n",
    "bs_obj = bs4.BeautifulSoup(html_str, 'html.parser')\n",
    "# bs_obj"
   ]
  },
  {
   "cell_type": "code",
   "execution_count": 79,
   "id": "14381aea-cd47-49c3-af4d-82281c2f08eb",
   "metadata": {},
   "outputs": [
    {
     "data": {
      "text/plain": [
       "<p>웹페이지분석</p>"
      ]
     },
     "execution_count": 79,
     "metadata": {},
     "output_type": "execute_result"
    }
   ],
   "source": [
    "bs_obj.find('p')"
   ]
  },
  {
   "cell_type": "code",
   "execution_count": 80,
   "id": "a904fbe0-2e80-4aa7-abd5-75dfef8d8deb",
   "metadata": {},
   "outputs": [
    {
     "data": {
      "text/plain": [
       "[<p>웹페이지분석</p>, <p>크롤링</p>, <p>파싱</p>]"
      ]
     },
     "execution_count": 80,
     "metadata": {},
     "output_type": "execute_result"
    }
   ],
   "source": [
    "bs_obj.findAll('p')"
   ]
  },
  {
   "cell_type": "code",
   "execution_count": 87,
   "id": "baac36f4-2fb4-42fd-97a5-134c17c4d521",
   "metadata": {},
   "outputs": [
    {
     "data": {
      "text/plain": [
       "[<p>웹페이지분석</p>, <p>크롤링</p>, <p>파싱</p>]"
      ]
     },
     "execution_count": 87,
     "metadata": {},
     "output_type": "execute_result"
    }
   ],
   "source": [
    "p1 = bs_obj.findAll('p')\n",
    "p1\n",
    "\n"
   ]
  },
  {
   "cell_type": "code",
   "execution_count": 89,
   "id": "152f03fb-62ff-4e8c-ae67-2ab1760af597",
   "metadata": {},
   "outputs": [],
   "source": [
    "html_str = \"\"\"\n",
    "<html>\n",
    "    <body>\n",
    "        <ul class=\"ko\">\n",
    "            <li><a href=\"https://www.naver.com/\">네이버</a></li>\n",
    "            <li><a href=\"https://www.daum.net/\">다음</a></li>\n",
    "        </ul>\n",
    "        <ul class=\"sns\">\n",
    "            <li><a href=\"https://www.goole.com/\">구글</a></li>\n",
    "            <li><a href=\"https://www.facebook.net/\">페이스북</a></li>\n",
    "        </ul>\n",
    "    </body>\n",
    "</html>\n",
    "\"\"\""
   ]
  },
  {
   "cell_type": "code",
   "execution_count": 91,
   "id": "281a0900-b2a1-4d70-80b8-e3c2c4dd040e",
   "metadata": {},
   "outputs": [
    {
     "data": {
      "text/plain": [
       "\n",
       "<html>\n",
       "<body>\n",
       "<ul class=\"ko\">\n",
       "<li><a href=\"https://www.naver.com/\">네이버</a></li>\n",
       "<li><a href=\"https://www.daum.net/\">다음</a></li>\n",
       "</ul>\n",
       "<ul class=\"sns\">\n",
       "<li><a href=\"https://www.goole.com/\">구글</a></li>\n",
       "<li><a href=\"https://www.facebook.net/\">페이스북</a></li>\n",
       "</ul>\n",
       "</body>\n",
       "</html>"
      ]
     },
     "execution_count": 91,
     "metadata": {},
     "output_type": "execute_result"
    }
   ],
   "source": [
    "bs_obj = bs4.BeautifulSoup(html_str, 'html.parser')\n",
    "bs_obj"
   ]
  },
  {
   "cell_type": "code",
   "execution_count": 95,
   "id": "12db529c-6a93-47c4-9030-48b4da636015",
   "metadata": {},
   "outputs": [
    {
     "data": {
      "text/plain": [
       "<a href=\"https://www.naver.com/\">네이버</a>"
      ]
     },
     "execution_count": 95,
     "metadata": {},
     "output_type": "execute_result"
    }
   ],
   "source": [
    "bs_obj.findAll('a')[0]"
   ]
  },
  {
   "cell_type": "code",
   "execution_count": 98,
   "id": "209ee64e-4b9d-4028-a7b9-29756fe0d3e7",
   "metadata": {},
   "outputs": [
    {
     "data": {
      "text/plain": [
       "'https://www.naver.com/'"
      ]
     },
     "execution_count": 98,
     "metadata": {},
     "output_type": "execute_result"
    },
    {
     "name": "stdout",
     "output_type": "stream",
     "text": [
      "https://www.naver.com/\n"
     ]
    }
   ],
   "source": [
    "bs_obj.findAll('a')[0]['href']\n",
    "print(bs_obj.findAll('a')[0]['href'])"
   ]
  },
  {
   "cell_type": "code",
   "execution_count": 110,
   "id": "2c061652-71b5-4271-845f-f9b3e87e0ab5",
   "metadata": {},
   "outputs": [
    {
     "name": "stdout",
     "output_type": "stream",
     "text": [
      "https://www.naver.com/\n",
      "https://www.daum.net/\n",
      "https://www.goole.com/\n",
      "https://www.facebook.net/\n"
     ]
    }
   ],
   "source": [
    "list = bs_obj.findAll('a')\n",
    "for i in list:\n",
    "   print(i['href'])"
   ]
  },
  {
   "cell_type": "code",
   "execution_count": 111,
   "id": "824a5aac-f1fb-4423-a37c-8a086ccb69e4",
   "metadata": {},
   "outputs": [],
   "source": [
    "html_str = \"\"\"\n",
    "<html>\n",
    "   <body>\n",
    "    \t<div id=\"wrap\">\n",
    "        \t<div id=\"mainMenuBox\">                \t\n",
    "                <ul>  \n",
    "                    <li><a href=\"#\" id='fashion'>패션잡화</a></li>    \n",
    "                    <li><a href=\"#\">주방용품</a></li>                     \t          \n",
    "                    <li><a href=\"#\">생활건강</a></li>\n",
    "                    <li><a href=\"#\">DIY가구</a></li>\n",
    "                </ul>\n",
    "            </div>\n",
    "        \t<div>\n",
    "            \t<table>\n",
    "                \t<tr><td><img src=\"shoes1.jpg\"></td>\n",
    "                    \t  <td><img src=\"shoes2.jpg\"></td>\n",
    "                    \t  <td><img src=\"shoes3.jpg\"></td></tr>\n",
    "                    <tr id=\"prdName\"><td>솔로이스트<br>걸리쉬 리본단화</td>\n",
    "                    \t  <td>맥컬린<br>그레이가보시스트랩 펌프스</td>\n",
    "                          <td>맥컬린<br>섹슈얼인사이드펌프스</td></tr>\n",
    "                    <tr id=\"price\"><td>100,000원</td><td>200,000원</td><td>120,000원</td></tr>\n",
    "                </table>\n",
    "            </div>\n",
    "            <div id=\"out_box\">\n",
    "            \t<div class=\"box\">\n",
    "                \t<h4>공지사항</h4>\n",
    "                    <hr>\n",
    "                    <a href=\"#\">[배송] : 무표배송 변경 안내 23.08.20</a><br>\n",
    "                    <a href=\"#\">[전시] : DIY 가구 전시 안내 23.08.31</a><br>\n",
    "                    <a href=\"#\">[판매] : 11월 특가 상품 안내 23.09.05</a><br>\n",
    "                    <div>공지사항 확인 필수</div>\n",
    "                </div>\n",
    "                <div class=\"box\">\n",
    "                \t<h4>커뮤니티</h4>\n",
    "                    <hr>\n",
    "                    <a href=\"#\">[레시피] : 살 안찌는 야식 만들기</a><br>\n",
    "                    <a href=\"#\">[가구] : 헌집 새집 베스트 가구</a><br>\n",
    "                    <a href=\"#\">[후기] : 배송이 잘못 됐어요 ㅠㅠ</a><br>\n",
    "                    <div>커뮤니티 확인 요청</div>\n",
    "                 </div>\n",
    "            </div>            \n",
    "        </div>\n",
    "    </body>\n",
    "</html>\"\"\"\n"
   ]
  },
  {
   "cell_type": "code",
   "execution_count": 112,
   "id": "0e2e2247-2c58-49d2-9144-38ee77eb9e67",
   "metadata": {},
   "outputs": [],
   "source": [
    "bs_obj = bs4.BeautifulSoup(html_str, 'html.parser')"
   ]
  },
  {
   "cell_type": "code",
   "execution_count": 120,
   "id": "9791b0dd-bf57-41bc-ba20-78fb872256a7",
   "metadata": {},
   "outputs": [
    {
     "data": {
      "text/plain": [
       "'패션잡화'"
      ]
     },
     "execution_count": 120,
     "metadata": {},
     "output_type": "execute_result"
    },
    {
     "data": {
      "text/plain": [
       "'주방용품'"
      ]
     },
     "execution_count": 120,
     "metadata": {},
     "output_type": "execute_result"
    },
    {
     "data": {
      "text/plain": [
       "'생활건강'"
      ]
     },
     "execution_count": 120,
     "metadata": {},
     "output_type": "execute_result"
    },
    {
     "data": {
      "text/plain": [
       "'DIY가구'"
      ]
     },
     "execution_count": 120,
     "metadata": {},
     "output_type": "execute_result"
    },
    {
     "data": {
      "text/plain": [
       "'[배송] : 무표배송 변경 안내 23.08.20'"
      ]
     },
     "execution_count": 120,
     "metadata": {},
     "output_type": "execute_result"
    },
    {
     "data": {
      "text/plain": [
       "'[전시] : DIY 가구 전시 안내 23.08.31'"
      ]
     },
     "execution_count": 120,
     "metadata": {},
     "output_type": "execute_result"
    },
    {
     "data": {
      "text/plain": [
       "'[판매] : 11월 특가 상품 안내 23.09.05'"
      ]
     },
     "execution_count": 120,
     "metadata": {},
     "output_type": "execute_result"
    },
    {
     "data": {
      "text/plain": [
       "'[레시피] : 살 안찌는 야식 만들기'"
      ]
     },
     "execution_count": 120,
     "metadata": {},
     "output_type": "execute_result"
    },
    {
     "data": {
      "text/plain": [
       "'[가구] : 헌집 새집 베스트 가구'"
      ]
     },
     "execution_count": 120,
     "metadata": {},
     "output_type": "execute_result"
    },
    {
     "data": {
      "text/plain": [
       "'[후기] : 배송이 잘못 됐어요 ㅠㅠ'"
      ]
     },
     "execution_count": 120,
     "metadata": {},
     "output_type": "execute_result"
    }
   ],
   "source": [
    "a_list = bs_obj.select('a')\n",
    "for a in a_list:\n",
    "    a.text"
   ]
  },
  {
   "cell_type": "code",
   "execution_count": 132,
   "id": "f66d594a-d7a2-4383-9a73-66bd13da596e",
   "metadata": {},
   "outputs": [
    {
     "data": {
      "text/plain": [
       "[<li><a href=\"#\" id=\"fashion\">패션잡화</a></li>,\n",
       " <li><a href=\"#\">주방용품</a></li>,\n",
       " <li><a href=\"#\">생활건강</a></li>,\n",
       " <li><a href=\"#\">DIY가구</a></li>]"
      ]
     },
     "execution_count": 132,
     "metadata": {},
     "output_type": "execute_result"
    }
   ],
   "source": [
    "bs_obj.select('#mainMenuBox li')"
   ]
  },
  {
   "cell_type": "code",
   "execution_count": 145,
   "id": "47308c81-7aa9-49af-bc3e-d0218f16be59",
   "metadata": {},
   "outputs": [
    {
     "data": {
      "text/plain": [
       "[<a href=\"#\">[배송] : 무표배송 변경 안내 23.08.20</a>,\n",
       " <a href=\"#\">[전시] : DIY 가구 전시 안내 23.08.31</a>,\n",
       " <a href=\"#\">[판매] : 11월 특가 상품 안내 23.09.05</a>,\n",
       " <a href=\"#\">[레시피] : 살 안찌는 야식 만들기</a>,\n",
       " <a href=\"#\">[가구] : 헌집 새집 베스트 가구</a>,\n",
       " <a href=\"#\">[후기] : 배송이 잘못 됐어요 ㅠㅠ</a>]"
      ]
     },
     "execution_count": 145,
     "metadata": {},
     "output_type": "execute_result"
    },
    {
     "data": {
      "text/plain": [
       "'패션잡화'"
      ]
     },
     "execution_count": 145,
     "metadata": {},
     "output_type": "execute_result"
    },
    {
     "data": {
      "text/plain": [
       "'공지사항 확인 필수'"
      ]
     },
     "execution_count": 145,
     "metadata": {},
     "output_type": "execute_result"
    }
   ],
   "source": [
    "bs_obj.select('.box a')\n",
    "bs_obj.select('#fashion')[0].text\n",
    "bs_obj.select('.box div')[0].text"
   ]
  }
 ],
 "metadata": {
  "kernelspec": {
   "display_name": "Python 3 (ipykernel)",
   "language": "python",
   "name": "python3"
  },
  "language_info": {
   "codemirror_mode": {
    "name": "ipython",
    "version": 3
   },
   "file_extension": ".py",
   "mimetype": "text/x-python",
   "name": "python",
   "nbconvert_exporter": "python",
   "pygments_lexer": "ipython3",
   "version": "3.11.3"
  }
 },
 "nbformat": 4,
 "nbformat_minor": 5
}
