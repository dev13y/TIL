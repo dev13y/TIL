{
 "cells": [
  {
   "cell_type": "markdown",
   "id": "632c1aa6-a253-42ea-8a70-f58c3d1b8f18",
   "metadata": {},
   "source": [
    "### XML 연습"
   ]
  },
  {
   "cell_type": "markdown",
   "id": "9d990561-24f3-445e-87bd-67a4f0058822",
   "metadata": {},
   "source": [
    "#### XML(eXtensible Markup Language)\n",
    "- W3C에서 개발된 특수 목적 마크업 언어를 만드는데 사용하도록 권장하는 다목적 마크업 언   어\n",
    "- HTML의 한계를 극복할   목적"
   ]
  },
  {
   "cell_type": "code",
   "execution_count": 2,
   "id": "eadba7f2-68ff-484f-b18a-8ff5d34dae24",
   "metadata": {},
   "outputs": [],
   "source": [
    "import bs4"
   ]
  },
  {
   "cell_type": "code",
   "execution_count": 5,
   "id": "6790283f-84bd-41f2-93bc-00b0fbf99908",
   "metadata": {},
   "outputs": [],
   "source": [
    "xml_str = '''\n",
    "<?xml version=\"1.0\" encoding=\"UTF-8\" standalone=\"yes\"?><response><header><resultcode>00</resultcode><resultmsg>NORMAL SERVICE.</resultmsg></header><body><items><item><id>abcd</id><name>홍길동</name><tel>010-1234-1234</tel><address>서울시 강남구</address></item><item><id>sky</id><name>이몽룡</name><tel>010-5678-5678</tel><address>제주도 제주시</address></item><item><id>lucky</id><name>성춘향</name><tel>010-1111-1111</tel><address>경기도 안양시</address></item></items><numofrows>10</numofrows><pageno>1</pageno><totalcount>4</totalcount></body></response>\n",
    "'''"
   ]
  },
  {
   "cell_type": "code",
   "execution_count": 6,
   "id": "dfb963b3-09aa-4664-a2f2-9563ca0e06e2",
   "metadata": {},
   "outputs": [
    {
     "data": {
      "text/plain": [
       "\n",
       "<?xml version=\"1.0\" encoding=\"UTF-8\" standalone=\"yes\"?><response><header><resultcode>00</resultcode><resultmsg>NORMAL SERVICE.</resultmsg></header><body><items><item><id>abcd</id><name>홍길동</name><tel>010-1234-1234</tel><address>서울시 강남구</address></item><item><id>sky</id><name>이몽룡</name><tel>010-5678-5678</tel><address>제주도 제주시</address></item><item><id>lucky</id><name>성춘향</name><tel>010-1111-1111</tel><address>경기도 안양시</address></item></items><numofrows>10</numofrows><pageno>1</pageno><totalcount>4</totalcount></body></response>"
      ]
     },
     "execution_count": 6,
     "metadata": {},
     "output_type": "execute_result"
    }
   ],
   "source": [
    "bs_obj = bs4.BeautifulSoup(xml_str, 'html.parser')\n",
    "bs_obj"
   ]
  },
  {
   "cell_type": "code",
   "execution_count": 7,
   "id": "5550d79b-c0ed-4966-a08d-af13fd40a969",
   "metadata": {},
   "outputs": [
    {
     "data": {
      "text/plain": [
       "3"
      ]
     },
     "execution_count": 7,
     "metadata": {},
     "output_type": "execute_result"
    }
   ],
   "source": [
    "items = bs_obj.findAll('item')\n",
    "len(items)"
   ]
  },
  {
   "cell_type": "code",
   "execution_count": 8,
   "id": "4196c9d6-9a83-4f76-a891-d202fb6a33af",
   "metadata": {},
   "outputs": [
    {
     "name": "stdout",
     "output_type": "stream",
     "text": [
      "abcd 홍길동 010-1234-1234 서울시 강남구\n",
      "sky 이몽룡 010-5678-5678 제주도 제주시\n",
      "lucky 성춘향 010-1111-1111 경기도 안양시\n"
     ]
    }
   ],
   "source": [
    "for item in items:\n",
    "    id = item.find('id').text\n",
    "    name = item.find('name').text\n",
    "    tel = item.find('tel').text\n",
    "    address = item.find('address').text\n",
    "    print(id, name, tel, address)"
   ]
  },
  {
   "cell_type": "code",
   "execution_count": null,
   "id": "0c1f2ebe-761b-41fb-966f-3a3842a34c8a",
   "metadata": {},
   "outputs": [],
   "source": []
  },
  {
   "cell_type": "code",
   "execution_count": null,
   "id": "731949a6-6eed-4cb7-aaae-c5f64bd7e20a",
   "metadata": {},
   "outputs": [],
   "source": []
  },
  {
   "cell_type": "code",
   "execution_count": null,
   "id": "75652949-7cfe-4b5f-843e-bbc4aa3bd262",
   "metadata": {},
   "outputs": [],
   "source": []
  }
 ],
 "metadata": {
  "kernelspec": {
   "display_name": "Python 3 (ipykernel)",
   "language": "python",
   "name": "python3"
  },
  "language_info": {
   "codemirror_mode": {
    "name": "ipython",
    "version": 3
   },
   "file_extension": ".py",
   "mimetype": "text/x-python",
   "name": "python",
   "nbconvert_exporter": "python",
   "pygments_lexer": "ipython3",
   "version": "3.11.5"
  }
 },
 "nbformat": 4,
 "nbformat_minor": 5
}
