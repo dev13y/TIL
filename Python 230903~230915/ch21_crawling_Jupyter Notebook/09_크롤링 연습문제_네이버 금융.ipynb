{
 "cells": [
  {
   "cell_type": "markdown",
   "id": "04a520f5-d1cc-4118-8476-49f5807d37ab",
   "metadata": {},
   "source": [
    "### 크롤링 연습문제"
   ]
  },
  {
   "cell_type": "markdown",
   "id": "0eb0ec36-39ef-4f88-9fd8-7727477ae2f6",
   "metadata": {},
   "source": [
    "#### 문제 1\n",
    "- 네이버 금융 페이지에서 유가/환율/국제금 시세/국내금 시세 추출  \n",
    "- url = 'https://finance.naver.com'"
   ]
  },
  {
   "cell_type": "code",
   "execution_count": 1,
   "id": "ef4d974f-e645-45df-90e9-823c804492d5",
   "metadata": {},
   "outputs": [],
   "source": [
    "from IPython.core.interactiveshell import InteractiveShell\n",
    "InteractiveShell.ast_node_interactivity=\"all\""
   ]
  },
  {
   "cell_type": "code",
   "execution_count": 2,
   "id": "eb3356ee-f05c-4da6-906c-6819522bebb0",
   "metadata": {},
   "outputs": [],
   "source": [
    "from urllib.request import urlopen\n",
    "import pandas as pd\n",
    "import bs4\n",
    "import requests"
   ]
  },
  {
   "cell_type": "code",
   "execution_count": 5,
   "id": "82f77ac3-45a7-4fea-9850-907aef2554aa",
   "metadata": {},
   "outputs": [],
   "source": [
    "url = 'https://finance.naver.com/'\n",
    "html = urlopen(url)\n",
    "# 파서 객체 생성\n",
    "bs_obj = bs4.BeautifulSoup(html, 'html.parser')"
   ]
  },
  {
   "cell_type": "code",
   "execution_count": 66,
   "id": "2ad33c67-2bef-46f2-9108-576855e1c6d0",
   "metadata": {},
   "outputs": [
    {
     "name": "stdout",
     "output_type": "stream",
     "text": [
      "미국USD : 1,328.10\n",
      "WTI(09.13) : 88.52\n",
      "국제금(09.13) : 1,932.50\n",
      "국내금(09.14) : 81,566.72\n"
     ]
    }
   ],
   "source": [
    "boxes = bs_obj.findAll('div', {'class' : 'section1'})\n",
    "print(boxes[0].findAll('tr')[1].find('th').text,':',boxes[0].findAll('tr')[1].find('td').text)\n",
    "boxes = bs_obj.findAll('div', {'class' : 'section2'})\n",
    "print(boxes[1].findAll('th')[4].text.strip(),\":\",boxes[1].findAll('td')[2].text)\n",
    "print(boxes[1].findAll('th')[10].text,\":\",boxes[1].findAll('td')[8].text)\n",
    "print(boxes[1].findAll('th')[11].text.strip(),\":\",boxes[1].findAll('td')[10].text)\n"
   ]
  },
  {
   "cell_type": "code",
   "execution_count": null,
   "id": "4839d7c7-4eec-460e-b8a4-17b4fce27854",
   "metadata": {},
   "outputs": [],
   "source": []
  },
  {
   "cell_type": "code",
   "execution_count": null,
   "id": "70e695cd-2592-4f7f-92f4-b3d0b2de42d1",
   "metadata": {},
   "outputs": [],
   "source": [
    "# 유가 :  88.84\n",
    "# USD :  1,328.00\n",
    "# 국제금 :  1,935.10\n",
    "# 국내금 :  81,781.70"
   ]
  },
  {
   "cell_type": "markdown",
   "id": "0dd8fd18-8437-4e12-bc95-5ccef638860d",
   "metadata": {},
   "source": [
    "#### 문제 2\n",
    "- 네이버 증권 페이지에서 상한가 / 하한가 / 시가총액상위 기업 추출\n",
    "- url = \"http://finance.naver.com/sise/\""
   ]
  },
  {
   "cell_type": "code",
   "execution_count": 71,
   "id": "b824df10-7dee-4eef-bfb3-f4be6a60c994",
   "metadata": {},
   "outputs": [],
   "source": [
    "url = 'https://finance.naver.com/sise/'\n",
    "html = urlopen(url)\n",
    "# 파서 객체 생성\n",
    "encoding = html.info().get_content_charset(failobj=\"utf-8\")\n",
    "bs_obj = bs4.BeautifulSoup(html, 'html.parser',from_encoding=encoding)\n"
   ]
  },
  {
   "cell_type": "code",
   "execution_count": 138,
   "id": "66d34e84-9d76-4598-af06-1f1a2f835a9a",
   "metadata": {},
   "outputs": [
    {
     "name": "stdout",
     "output_type": "stream",
     "text": [
      "1 피씨엘 = 3,980\n",
      "2 엘에이티 = 8,030\n",
      "3 엔젠바이오 = 8,760\n"
     ]
    }
   ],
   "source": [
    "boxes = bs_obj.findAll('table', {'id' : 'siselist_tab_0'})\n",
    "titles = boxes[0].findAll('a',{'class':'tltle'})[:3]\n",
    "\n",
    "for ran, title in zip(range(1,4), titles):\n",
    "    print(ran, title.text,\"=\",title.find_next('td').next)"
   ]
  },
  {
   "cell_type": "code",
   "execution_count": null,
   "id": "1f9856f0-462a-4b12-9d00-e740d10096a1",
   "metadata": {},
   "outputs": [],
   "source": [
    "# ---------- 상한가 ----------\n",
    "# 1 노루홀딩스우 = 48,900\n",
    "# 2 이원컴포텍 = 4,120\n",
    "# 3 에이스테크 = 2,425\n",
    "# 4 노루페인트우 = 25,450\n",
    "# 5 머큐리 = 8,370\n",
    "# 6 애드바이오텍 = 4,910\n",
    "# 7 썬테크 = 5,180\n",
    "# 8 엔에스컴퍼니 = 4,845"
   ]
  },
  {
   "cell_type": "code",
   "execution_count": 142,
   "id": "f90f32d8-d1d4-4556-95d4-cfc0978bec75",
   "metadata": {},
   "outputs": [
    {
     "name": "stdout",
     "output_type": "stream",
     "text": [
      "1 대유에이텍 = 355\n",
      "2 골프존데카 = 1,180\n",
      "3 바스칸바이오제약 = 6,800\n"
     ]
    }
   ],
   "source": [
    "boxes = bs_obj.findAll('table', {'id' : 'siselist_tab_1'})\n",
    "titles = boxes[0].findAll('a',{'class':'tltle'})[:3]\n",
    "\n",
    "for ran, title in zip(range(1,4), titles):\n",
    "    print(ran, title.text,\"=\",title.find_next('td').next)"
   ]
  },
  {
   "cell_type": "code",
   "execution_count": null,
   "id": "2827bddd-eb2b-44a2-a9b3-43b25e4dd465",
   "metadata": {},
   "outputs": [],
   "source": [
    "\n",
    "# ----------- 하한가 -----------\n",
    "# 1 테크엔 = 289"
   ]
  },
  {
   "cell_type": "code",
   "execution_count": 111,
   "id": "6d13fccd-284c-4424-ad53-0a17a9bd5374",
   "metadata": {},
   "outputs": [
    {
     "name": "stdout",
     "output_type": "stream",
     "text": [
      "1. POSCO홀딩스 : 546,000\n",
      "2. 에코프로 : 907,000\n",
      "3. 삼성전자 : 71,200\n",
      "4. 신성델타테크 : 49,150\n",
      "5. 포스코DX : 53,600\n",
      "6. 포스코인터내셔널 : 78,300\n",
      "7. 엑세스바이오 : 12,080\n",
      "8. 에코프로비엠 : 282,500\n",
      "9. 루닛 : 220,500\n",
      "10. 에스와이 : 6,700\n"
     ]
    }
   ],
   "source": [
    "fin_list = []\n",
    "price_list = []\n",
    "\n",
    "boxes = bs_obj.findAll('ul', {'class' : 'lst_pop'})\n",
    "\n",
    "for x in boxes[0].findAll('a'):\n",
    "    fin_list += x\n",
    "\n",
    "for i in boxes[0].findAll('span'):\n",
    "    if '상승' not in i and '하락' not in i:\n",
    "        price_list += i\n",
    "        \n",
    "for ran, fin, price in zip(range(1,11), fin_list, price_list):\n",
    "    print(f\"{ran}. {fin} : {price}\")"
   ]
  },
  {
   "cell_type": "code",
   "execution_count": null,
   "id": "875bf67a-3571-411d-9bfa-40bd6372dfd4",
   "metadata": {},
   "outputs": [],
   "source": [
    "\n",
    "# ----------- 시가총액 상위 -----------\n",
    "# 1 삼성전자 = 70,900\n",
    "# 2 LG에너지솔루션 = 494,500\n",
    "# 3 SK하이닉스 = 118,500\n",
    "# 4 삼성바이오로직스 = 723,000\n",
    "# 5 삼성전자우 = 57,500\n",
    "# 6 POSCO홀딩스 = 529,000\n",
    "# 7 현대차 = 189,800\n",
    "# 8 삼성SDI = 558,000\n",
    "# 9 LG화학 = 540,000\n",
    "# 10 NAVER = 222,000"
   ]
  }
 ],
 "metadata": {
  "kernelspec": {
   "display_name": "Python 3 (ipykernel)",
   "language": "python",
   "name": "python3"
  },
  "language_info": {
   "codemirror_mode": {
    "name": "ipython",
    "version": 3
   },
   "file_extension": ".py",
   "mimetype": "text/x-python",
   "name": "python",
   "nbconvert_exporter": "python",
   "pygments_lexer": "ipython3",
   "version": "3.11.3"
  }
 },
 "nbformat": 4,
 "nbformat_minor": 5
}
